{
 "cells": [
  {
   "cell_type": "code",
   "execution_count": 1,
   "metadata": {},
   "outputs": [],
   "source": [
    "import pandas as pd\n",
    "import numpy as np\n",
    "import matplotlib.pyplot as plt\n",
    "%matplotlib inline\n",
    "import seaborn as sns\n",
    "from sklearn.metrics import mean_squared_error\n",
    "from sklearn.preprocessing import StandardScaler, MinMaxScaler"
   ]
  },
  {
   "cell_type": "code",
   "execution_count": 2,
   "metadata": {},
   "outputs": [],
   "source": [
    "def rmse(y_true,y_preds):\n",
    "    return np.sqrt(mean_squared_error(y_true,y_preds))"
   ]
  },
  {
   "cell_type": "code",
   "execution_count": 3,
   "metadata": {},
   "outputs": [],
   "source": [
    "df = pd.read_excel('data/Tax Simulation for Data science.xlsx')"
   ]
  },
  {
   "cell_type": "code",
   "execution_count": 4,
   "metadata": {
    "scrolled": true
   },
   "outputs": [
    {
     "data": {
      "text/html": [
       "<div>\n",
       "<style scoped>\n",
       "    .dataframe tbody tr th:only-of-type {\n",
       "        vertical-align: middle;\n",
       "    }\n",
       "\n",
       "    .dataframe tbody tr th {\n",
       "        vertical-align: top;\n",
       "    }\n",
       "\n",
       "    .dataframe thead th {\n",
       "        text-align: right;\n",
       "    }\n",
       "</style>\n",
       "<table border=\"1\" class=\"dataframe\">\n",
       "  <thead>\n",
       "    <tr style=\"text-align: right;\">\n",
       "      <th></th>\n",
       "      <th>Unnamed: 0</th>\n",
       "      <th>Basic</th>\n",
       "      <th>Housing</th>\n",
       "      <th>Transport</th>\n",
       "      <th>Other Taxable Allowances</th>\n",
       "      <th>Other Non Taxable Allowances</th>\n",
       "      <th>Gross</th>\n",
       "      <th>Taxable Gross</th>\n",
       "      <th>Pension</th>\n",
       "      <th>NHF</th>\n",
       "      <th>Personal\\nrelief</th>\n",
       "      <th>Standard Relief</th>\n",
       "      <th>Total Relief</th>\n",
       "      <th>Net Taxable</th>\n",
       "      <th>Computed Tax</th>\n",
       "      <th>True Tax</th>\n",
       "      <th>NetPay adjusted for Tax Only</th>\n",
       "      <th>NetPay adjusted for Tax+Pension+NHF</th>\n",
       "    </tr>\n",
       "  </thead>\n",
       "  <tbody>\n",
       "    <tr>\n",
       "      <th>0</th>\n",
       "      <td>NaN</td>\n",
       "      <td>10000</td>\n",
       "      <td>NaN</td>\n",
       "      <td>NaN</td>\n",
       "      <td>NaN</td>\n",
       "      <td>NaN</td>\n",
       "      <td>10000</td>\n",
       "      <td>10000</td>\n",
       "      <td>800</td>\n",
       "      <td>250</td>\n",
       "      <td>16666.66</td>\n",
       "      <td>2000</td>\n",
       "      <td>19716.66</td>\n",
       "      <td>-9716.66</td>\n",
       "      <td>-680.1662</td>\n",
       "      <td>100.0</td>\n",
       "      <td>9900.0</td>\n",
       "      <td>8850.0</td>\n",
       "    </tr>\n",
       "    <tr>\n",
       "      <th>1</th>\n",
       "      <td>NaN</td>\n",
       "      <td>11000</td>\n",
       "      <td>NaN</td>\n",
       "      <td>NaN</td>\n",
       "      <td>NaN</td>\n",
       "      <td>NaN</td>\n",
       "      <td>11000</td>\n",
       "      <td>11000</td>\n",
       "      <td>880</td>\n",
       "      <td>275</td>\n",
       "      <td>16666.66</td>\n",
       "      <td>2200</td>\n",
       "      <td>20021.66</td>\n",
       "      <td>-9021.66</td>\n",
       "      <td>-631.5162</td>\n",
       "      <td>110.0</td>\n",
       "      <td>10890.0</td>\n",
       "      <td>9735.0</td>\n",
       "    </tr>\n",
       "    <tr>\n",
       "      <th>2</th>\n",
       "      <td>NaN</td>\n",
       "      <td>12000</td>\n",
       "      <td>NaN</td>\n",
       "      <td>NaN</td>\n",
       "      <td>NaN</td>\n",
       "      <td>NaN</td>\n",
       "      <td>12000</td>\n",
       "      <td>12000</td>\n",
       "      <td>960</td>\n",
       "      <td>300</td>\n",
       "      <td>16666.66</td>\n",
       "      <td>2400</td>\n",
       "      <td>20326.66</td>\n",
       "      <td>-8326.66</td>\n",
       "      <td>-582.8662</td>\n",
       "      <td>120.0</td>\n",
       "      <td>11880.0</td>\n",
       "      <td>10620.0</td>\n",
       "    </tr>\n",
       "    <tr>\n",
       "      <th>3</th>\n",
       "      <td>NaN</td>\n",
       "      <td>13000</td>\n",
       "      <td>NaN</td>\n",
       "      <td>NaN</td>\n",
       "      <td>NaN</td>\n",
       "      <td>NaN</td>\n",
       "      <td>13000</td>\n",
       "      <td>13000</td>\n",
       "      <td>1040</td>\n",
       "      <td>325</td>\n",
       "      <td>16666.66</td>\n",
       "      <td>2600</td>\n",
       "      <td>20631.66</td>\n",
       "      <td>-7631.66</td>\n",
       "      <td>-534.2162</td>\n",
       "      <td>130.0</td>\n",
       "      <td>12870.0</td>\n",
       "      <td>11505.0</td>\n",
       "    </tr>\n",
       "    <tr>\n",
       "      <th>4</th>\n",
       "      <td>NaN</td>\n",
       "      <td>14000</td>\n",
       "      <td>NaN</td>\n",
       "      <td>NaN</td>\n",
       "      <td>NaN</td>\n",
       "      <td>NaN</td>\n",
       "      <td>14000</td>\n",
       "      <td>14000</td>\n",
       "      <td>1120</td>\n",
       "      <td>350</td>\n",
       "      <td>16666.66</td>\n",
       "      <td>2800</td>\n",
       "      <td>20936.66</td>\n",
       "      <td>-6936.66</td>\n",
       "      <td>-485.5662</td>\n",
       "      <td>140.0</td>\n",
       "      <td>13860.0</td>\n",
       "      <td>12390.0</td>\n",
       "    </tr>\n",
       "  </tbody>\n",
       "</table>\n",
       "</div>"
      ],
      "text/plain": [
       "   Unnamed: 0  Basic  Housing  Transport  Other Taxable Allowances  \\\n",
       "0         NaN  10000      NaN        NaN                       NaN   \n",
       "1         NaN  11000      NaN        NaN                       NaN   \n",
       "2         NaN  12000      NaN        NaN                       NaN   \n",
       "3         NaN  13000      NaN        NaN                       NaN   \n",
       "4         NaN  14000      NaN        NaN                       NaN   \n",
       "\n",
       "   Other Non Taxable Allowances  Gross  Taxable Gross  Pension  NHF  \\\n",
       "0                           NaN  10000          10000      800  250   \n",
       "1                           NaN  11000          11000      880  275   \n",
       "2                           NaN  12000          12000      960  300   \n",
       "3                           NaN  13000          13000     1040  325   \n",
       "4                           NaN  14000          14000     1120  350   \n",
       "\n",
       "   Personal\\nrelief  Standard Relief  Total Relief  Net Taxable  Computed Tax  \\\n",
       "0          16666.66             2000      19716.66     -9716.66     -680.1662   \n",
       "1          16666.66             2200      20021.66     -9021.66     -631.5162   \n",
       "2          16666.66             2400      20326.66     -8326.66     -582.8662   \n",
       "3          16666.66             2600      20631.66     -7631.66     -534.2162   \n",
       "4          16666.66             2800      20936.66     -6936.66     -485.5662   \n",
       "\n",
       "   True Tax  NetPay adjusted for Tax Only  NetPay adjusted for Tax+Pension+NHF  \n",
       "0     100.0                        9900.0                               8850.0  \n",
       "1     110.0                       10890.0                               9735.0  \n",
       "2     120.0                       11880.0                              10620.0  \n",
       "3     130.0                       12870.0                              11505.0  \n",
       "4     140.0                       13860.0                              12390.0  "
      ]
     },
     "execution_count": 4,
     "metadata": {},
     "output_type": "execute_result"
    }
   ],
   "source": [
    "df.head()"
   ]
  },
  {
   "cell_type": "code",
   "execution_count": 5,
   "metadata": {},
   "outputs": [],
   "source": [
    "df.drop(['Unnamed: 0', 'Housing', 'Transport',\n",
    "       'Other Taxable Allowances', 'Other Non Taxable Allowances', 'Gross',\n",
    "       'Taxable Gross', 'Pension', 'NHF', 'Personal\\nrelief',\n",
    "       'Standard Relief', 'Total Relief', 'Net Taxable', 'Computed Tax',\n",
    "       'True Tax', 'NetPay adjusted for Tax Only'], axis=1, inplace=True)"
   ]
  },
  {
   "cell_type": "code",
   "execution_count": 6,
   "metadata": {},
   "outputs": [],
   "source": [
    "df.drop(df.index[0:20],axis=0, inplace=True)"
   ]
  },
  {
   "cell_type": "code",
   "execution_count": 7,
   "metadata": {},
   "outputs": [],
   "source": [
    "df.reset_index(inplace=True,drop=True)"
   ]
  },
  {
   "cell_type": "code",
   "execution_count": 8,
   "metadata": {},
   "outputs": [],
   "source": [
    "X = df.drop('NetPay adjusted for Tax+Pension+NHF',1)\n",
    "y = df['NetPay adjusted for Tax+Pension+NHF']"
   ]
  },
  {
   "cell_type": "code",
   "execution_count": 9,
   "metadata": {},
   "outputs": [],
   "source": [
    "from sklearn.model_selection import train_test_split"
   ]
  },
  {
   "cell_type": "code",
   "execution_count": 10,
   "metadata": {},
   "outputs": [],
   "source": [
    "X_train, X_test, y_train, y_test = train_test_split(y,X, test_size=0.25, random_state=5)"
   ]
  },
  {
   "cell_type": "code",
   "execution_count": 11,
   "metadata": {},
   "outputs": [],
   "source": [
    "scaler = MinMaxScaler()\n",
    "X_train = scaler.fit_transform(np.array(X_train).reshape(-1,1))\n",
    "X_test = scaler.transform(np.array(X_test).reshape(-1,1))"
   ]
  },
  {
   "cell_type": "code",
   "execution_count": 12,
   "metadata": {},
   "outputs": [],
   "source": [
    "from sklearn.linear_model import Lasso"
   ]
  },
  {
   "cell_type": "code",
   "execution_count": 13,
   "metadata": {},
   "outputs": [],
   "source": [
    "model = Lasso()"
   ]
  },
  {
   "cell_type": "code",
   "execution_count": 14,
   "metadata": {},
   "outputs": [
    {
     "data": {
      "text/plain": [
       "Lasso()"
      ]
     },
     "execution_count": 14,
     "metadata": {},
     "output_type": "execute_result"
    }
   ],
   "source": [
    "model.fit(X_train,y_train)"
   ]
  },
  {
   "cell_type": "code",
   "execution_count": 15,
   "metadata": {},
   "outputs": [],
   "source": [
    "y_preds = model.predict(X_test)"
   ]
  },
  {
   "cell_type": "code",
   "execution_count": 16,
   "metadata": {},
   "outputs": [
    {
     "data": {
      "text/plain": [
       "1068.5792117886772"
      ]
     },
     "execution_count": 16,
     "metadata": {},
     "output_type": "execute_result"
    }
   ],
   "source": [
    "rmse(y_test,y_preds)"
   ]
  },
  {
   "cell_type": "code",
   "execution_count": 22,
   "metadata": {},
   "outputs": [],
   "source": [
    "a = 150000\n",
    "a = np.array(a).reshape(1,-1)\n",
    "a = scaler.transform(a)"
   ]
  },
  {
   "cell_type": "code",
   "execution_count": 23,
   "metadata": {},
   "outputs": [
    {
     "data": {
      "text/plain": [
       "array([181292.68028154])"
      ]
     },
     "execution_count": 23,
     "metadata": {},
     "output_type": "execute_result"
    }
   ],
   "source": [
    "model.predict(a)"
   ]
  },
  {
   "cell_type": "code",
   "execution_count": 17,
   "metadata": {},
   "outputs": [],
   "source": [
    "import pickle"
   ]
  },
  {
   "cell_type": "code",
   "execution_count": 18,
   "metadata": {},
   "outputs": [],
   "source": [
    "pickle.dump(model,open('grosspay_regressor.pkl','wb'))\n",
    "pickle.dump(scaler,open('grosspay_scaler.pkl','wb'))"
   ]
  },
  {
   "cell_type": "code",
   "execution_count": null,
   "metadata": {},
   "outputs": [],
   "source": []
  }
 ],
 "metadata": {
  "kernelspec": {
   "display_name": "Python 3",
   "language": "python",
   "name": "python3"
  },
  "language_info": {
   "codemirror_mode": {
    "name": "ipython",
    "version": 3
   },
   "file_extension": ".py",
   "mimetype": "text/x-python",
   "name": "python",
   "nbconvert_exporter": "python",
   "pygments_lexer": "ipython3",
   "version": "3.8.3"
  }
 },
 "nbformat": 4,
 "nbformat_minor": 2
}
