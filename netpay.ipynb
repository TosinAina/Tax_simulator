{
 "cells": [
  {
   "cell_type": "code",
   "execution_count": 1,
   "metadata": {},
   "outputs": [],
   "source": [
    "import pandas as pd\n",
    "import numpy as np\n",
    "import matplotlib.pyplot as plt\n",
    "%matplotlib inline\n",
    "import seaborn as sns\n",
    "from sklearn.metrics import mean_squared_error\n",
    "from sklearn.preprocessing import StandardScaler, MinMaxScaler"
   ]
  },
  {
   "cell_type": "code",
   "execution_count": 2,
   "metadata": {},
   "outputs": [],
   "source": [
    "def rmse(y_true,y_preds):\n",
    "    return np.sqrt(mean_squared_error(y_true,y_preds))"
   ]
  },
  {
   "cell_type": "code",
   "execution_count": 3,
   "metadata": {},
   "outputs": [],
   "source": [
    "df = pd.read_excel('data/Tax Simulation for Data science.xlsx')"
   ]
  },
  {
   "cell_type": "code",
   "execution_count": 4,
   "metadata": {
    "scrolled": true
   },
   "outputs": [
    {
     "data": {
      "text/html": [
       "<div>\n",
       "<style scoped>\n",
       "    .dataframe tbody tr th:only-of-type {\n",
       "        vertical-align: middle;\n",
       "    }\n",
       "\n",
       "    .dataframe tbody tr th {\n",
       "        vertical-align: top;\n",
       "    }\n",
       "\n",
       "    .dataframe thead th {\n",
       "        text-align: right;\n",
       "    }\n",
       "</style>\n",
       "<table border=\"1\" class=\"dataframe\">\n",
       "  <thead>\n",
       "    <tr style=\"text-align: right;\">\n",
       "      <th></th>\n",
       "      <th>Unnamed: 0</th>\n",
       "      <th>Basic</th>\n",
       "      <th>Housing</th>\n",
       "      <th>Transport</th>\n",
       "      <th>Other Taxable Allowances</th>\n",
       "      <th>Other Non Taxable Allowances</th>\n",
       "      <th>Gross</th>\n",
       "      <th>Taxable Gross</th>\n",
       "      <th>Pension</th>\n",
       "      <th>NHF</th>\n",
       "      <th>Personal\\nrelief</th>\n",
       "      <th>Standard Relief</th>\n",
       "      <th>Total Relief</th>\n",
       "      <th>Net Taxable</th>\n",
       "      <th>Computed Tax</th>\n",
       "      <th>True Tax</th>\n",
       "      <th>NetPay adjusted for Tax Only</th>\n",
       "      <th>NetPay adjusted for Tax+Pension+NHF</th>\n",
       "    </tr>\n",
       "  </thead>\n",
       "  <tbody>\n",
       "    <tr>\n",
       "      <th>0</th>\n",
       "      <td>NaN</td>\n",
       "      <td>10000</td>\n",
       "      <td>NaN</td>\n",
       "      <td>NaN</td>\n",
       "      <td>NaN</td>\n",
       "      <td>NaN</td>\n",
       "      <td>10000</td>\n",
       "      <td>10000</td>\n",
       "      <td>800</td>\n",
       "      <td>250</td>\n",
       "      <td>16666.66</td>\n",
       "      <td>2000</td>\n",
       "      <td>19716.66</td>\n",
       "      <td>-9716.66</td>\n",
       "      <td>-680.1662</td>\n",
       "      <td>100.0</td>\n",
       "      <td>9900.0</td>\n",
       "      <td>8850.0</td>\n",
       "    </tr>\n",
       "    <tr>\n",
       "      <th>1</th>\n",
       "      <td>NaN</td>\n",
       "      <td>11000</td>\n",
       "      <td>NaN</td>\n",
       "      <td>NaN</td>\n",
       "      <td>NaN</td>\n",
       "      <td>NaN</td>\n",
       "      <td>11000</td>\n",
       "      <td>11000</td>\n",
       "      <td>880</td>\n",
       "      <td>275</td>\n",
       "      <td>16666.66</td>\n",
       "      <td>2200</td>\n",
       "      <td>20021.66</td>\n",
       "      <td>-9021.66</td>\n",
       "      <td>-631.5162</td>\n",
       "      <td>110.0</td>\n",
       "      <td>10890.0</td>\n",
       "      <td>9735.0</td>\n",
       "    </tr>\n",
       "    <tr>\n",
       "      <th>2</th>\n",
       "      <td>NaN</td>\n",
       "      <td>12000</td>\n",
       "      <td>NaN</td>\n",
       "      <td>NaN</td>\n",
       "      <td>NaN</td>\n",
       "      <td>NaN</td>\n",
       "      <td>12000</td>\n",
       "      <td>12000</td>\n",
       "      <td>960</td>\n",
       "      <td>300</td>\n",
       "      <td>16666.66</td>\n",
       "      <td>2400</td>\n",
       "      <td>20326.66</td>\n",
       "      <td>-8326.66</td>\n",
       "      <td>-582.8662</td>\n",
       "      <td>120.0</td>\n",
       "      <td>11880.0</td>\n",
       "      <td>10620.0</td>\n",
       "    </tr>\n",
       "    <tr>\n",
       "      <th>3</th>\n",
       "      <td>NaN</td>\n",
       "      <td>13000</td>\n",
       "      <td>NaN</td>\n",
       "      <td>NaN</td>\n",
       "      <td>NaN</td>\n",
       "      <td>NaN</td>\n",
       "      <td>13000</td>\n",
       "      <td>13000</td>\n",
       "      <td>1040</td>\n",
       "      <td>325</td>\n",
       "      <td>16666.66</td>\n",
       "      <td>2600</td>\n",
       "      <td>20631.66</td>\n",
       "      <td>-7631.66</td>\n",
       "      <td>-534.2162</td>\n",
       "      <td>130.0</td>\n",
       "      <td>12870.0</td>\n",
       "      <td>11505.0</td>\n",
       "    </tr>\n",
       "    <tr>\n",
       "      <th>4</th>\n",
       "      <td>NaN</td>\n",
       "      <td>14000</td>\n",
       "      <td>NaN</td>\n",
       "      <td>NaN</td>\n",
       "      <td>NaN</td>\n",
       "      <td>NaN</td>\n",
       "      <td>14000</td>\n",
       "      <td>14000</td>\n",
       "      <td>1120</td>\n",
       "      <td>350</td>\n",
       "      <td>16666.66</td>\n",
       "      <td>2800</td>\n",
       "      <td>20936.66</td>\n",
       "      <td>-6936.66</td>\n",
       "      <td>-485.5662</td>\n",
       "      <td>140.0</td>\n",
       "      <td>13860.0</td>\n",
       "      <td>12390.0</td>\n",
       "    </tr>\n",
       "  </tbody>\n",
       "</table>\n",
       "</div>"
      ],
      "text/plain": [
       "   Unnamed: 0  Basic  Housing  Transport  Other Taxable Allowances  \\\n",
       "0         NaN  10000      NaN        NaN                       NaN   \n",
       "1         NaN  11000      NaN        NaN                       NaN   \n",
       "2         NaN  12000      NaN        NaN                       NaN   \n",
       "3         NaN  13000      NaN        NaN                       NaN   \n",
       "4         NaN  14000      NaN        NaN                       NaN   \n",
       "\n",
       "   Other Non Taxable Allowances  Gross  Taxable Gross  Pension  NHF  \\\n",
       "0                           NaN  10000          10000      800  250   \n",
       "1                           NaN  11000          11000      880  275   \n",
       "2                           NaN  12000          12000      960  300   \n",
       "3                           NaN  13000          13000     1040  325   \n",
       "4                           NaN  14000          14000     1120  350   \n",
       "\n",
       "   Personal\\nrelief  Standard Relief  Total Relief  Net Taxable  Computed Tax  \\\n",
       "0          16666.66             2000      19716.66     -9716.66     -680.1662   \n",
       "1          16666.66             2200      20021.66     -9021.66     -631.5162   \n",
       "2          16666.66             2400      20326.66     -8326.66     -582.8662   \n",
       "3          16666.66             2600      20631.66     -7631.66     -534.2162   \n",
       "4          16666.66             2800      20936.66     -6936.66     -485.5662   \n",
       "\n",
       "   True Tax  NetPay adjusted for Tax Only  NetPay adjusted for Tax+Pension+NHF  \n",
       "0     100.0                        9900.0                               8850.0  \n",
       "1     110.0                       10890.0                               9735.0  \n",
       "2     120.0                       11880.0                              10620.0  \n",
       "3     130.0                       12870.0                              11505.0  \n",
       "4     140.0                       13860.0                              12390.0  "
      ]
     },
     "execution_count": 4,
     "metadata": {},
     "output_type": "execute_result"
    }
   ],
   "source": [
    "df.head()"
   ]
  },
  {
   "cell_type": "code",
   "execution_count": 5,
   "metadata": {},
   "outputs": [
    {
     "data": {
      "text/plain": [
       "Index(['Unnamed: 0', 'Basic', 'Housing', 'Transport',\n",
       "       'Other Taxable Allowances', 'Other Non Taxable Allowances', 'Gross',\n",
       "       'Taxable Gross', 'Pension', 'NHF', 'Personal\\nrelief',\n",
       "       'Standard Relief', 'Total Relief', 'Net Taxable', 'Computed Tax',\n",
       "       'True Tax', 'NetPay adjusted for Tax Only',\n",
       "       'NetPay adjusted for Tax+Pension+NHF'],\n",
       "      dtype='object')"
      ]
     },
     "execution_count": 5,
     "metadata": {},
     "output_type": "execute_result"
    }
   ],
   "source": [
    "df.columns"
   ]
  },
  {
   "cell_type": "code",
   "execution_count": 6,
   "metadata": {},
   "outputs": [],
   "source": [
    "df.drop(['Unnamed: 0', 'Housing', 'Transport',\n",
    "       'Other Taxable Allowances', 'Other Non Taxable Allowances', 'Gross',\n",
    "       'Taxable Gross', 'Pension', 'NHF', 'Personal\\nrelief',\n",
    "       'Standard Relief', 'Total Relief', 'Net Taxable', 'Computed Tax',\n",
    "       'True Tax', 'NetPay adjusted for Tax Only'], axis=1, inplace=True)"
   ]
  },
  {
   "cell_type": "code",
   "execution_count": 7,
   "metadata": {},
   "outputs": [],
   "source": [
    "df.drop(df.index[0:20],axis=0, inplace=True)"
   ]
  },
  {
   "cell_type": "code",
   "execution_count": 8,
   "metadata": {},
   "outputs": [],
   "source": [
    "def extract_features(df,col):\n",
    "    df['Pension'] = 0.08 * df[col]\n",
    "    df['NHF'] = 0.025 * df[col]\n",
    "    df['Standard_relief'] = 0.2 * df[col]\n",
    "    df['Personal_relief'] = df[col].apply(lambda x: (200000/12) if x < (20000000/12) else 0.01* x)\n",
    "    df['Total_relief'] = df['Pension'] + df['NHF'] + df['Personal_relief'] + df['Standard_relief']\n",
    "    df['Net_taxable'] = df[col] - df['Total_relief']\n",
    "    return df"
   ]
  },
  {
   "cell_type": "code",
   "execution_count": 9,
   "metadata": {},
   "outputs": [],
   "source": [
    "df.reset_index(inplace=True,drop=True)"
   ]
  },
  {
   "cell_type": "code",
   "execution_count": 10,
   "metadata": {},
   "outputs": [],
   "source": [
    "df = extract_features(df,'Basic')"
   ]
  },
  {
   "cell_type": "code",
   "execution_count": 11,
   "metadata": {},
   "outputs": [
    {
     "data": {
      "text/html": [
       "<div>\n",
       "<style scoped>\n",
       "    .dataframe tbody tr th:only-of-type {\n",
       "        vertical-align: middle;\n",
       "    }\n",
       "\n",
       "    .dataframe tbody tr th {\n",
       "        vertical-align: top;\n",
       "    }\n",
       "\n",
       "    .dataframe thead th {\n",
       "        text-align: right;\n",
       "    }\n",
       "</style>\n",
       "<table border=\"1\" class=\"dataframe\">\n",
       "  <thead>\n",
       "    <tr style=\"text-align: right;\">\n",
       "      <th></th>\n",
       "      <th>Basic</th>\n",
       "      <th>NetPay adjusted for Tax+Pension+NHF</th>\n",
       "      <th>Pension</th>\n",
       "      <th>NHF</th>\n",
       "      <th>Standard_relief</th>\n",
       "      <th>Personal_relief</th>\n",
       "      <th>Total_relief</th>\n",
       "      <th>Net_taxable</th>\n",
       "    </tr>\n",
       "  </thead>\n",
       "  <tbody>\n",
       "    <tr>\n",
       "      <th>0</th>\n",
       "      <td>30000</td>\n",
       "      <td>2.655000e+04</td>\n",
       "      <td>2400.0</td>\n",
       "      <td>750.0</td>\n",
       "      <td>6000.0</td>\n",
       "      <td>16666.666667</td>\n",
       "      <td>2.581667e+04</td>\n",
       "      <td>4.183333e+03</td>\n",
       "    </tr>\n",
       "    <tr>\n",
       "      <th>1</th>\n",
       "      <td>31000</td>\n",
       "      <td>2.740352e+04</td>\n",
       "      <td>2480.0</td>\n",
       "      <td>775.0</td>\n",
       "      <td>6200.0</td>\n",
       "      <td>16666.666667</td>\n",
       "      <td>2.612167e+04</td>\n",
       "      <td>4.878333e+03</td>\n",
       "    </tr>\n",
       "    <tr>\n",
       "      <th>2</th>\n",
       "      <td>32000</td>\n",
       "      <td>2.824987e+04</td>\n",
       "      <td>2560.0</td>\n",
       "      <td>800.0</td>\n",
       "      <td>6400.0</td>\n",
       "      <td>16666.666667</td>\n",
       "      <td>2.642667e+04</td>\n",
       "      <td>5.573333e+03</td>\n",
       "    </tr>\n",
       "    <tr>\n",
       "      <th>3</th>\n",
       "      <td>33000</td>\n",
       "      <td>2.909622e+04</td>\n",
       "      <td>2640.0</td>\n",
       "      <td>825.0</td>\n",
       "      <td>6600.0</td>\n",
       "      <td>16666.666667</td>\n",
       "      <td>2.673167e+04</td>\n",
       "      <td>6.268333e+03</td>\n",
       "    </tr>\n",
       "    <tr>\n",
       "      <th>4</th>\n",
       "      <td>34000</td>\n",
       "      <td>2.994257e+04</td>\n",
       "      <td>2720.0</td>\n",
       "      <td>850.0</td>\n",
       "      <td>6800.0</td>\n",
       "      <td>16666.666667</td>\n",
       "      <td>2.703667e+04</td>\n",
       "      <td>6.963333e+03</td>\n",
       "    </tr>\n",
       "    <tr>\n",
       "      <th>...</th>\n",
       "      <td>...</td>\n",
       "      <td>...</td>\n",
       "      <td>...</td>\n",
       "      <td>...</td>\n",
       "      <td>...</td>\n",
       "      <td>...</td>\n",
       "      <td>...</td>\n",
       "      <td>...</td>\n",
       "    </tr>\n",
       "    <tr>\n",
       "      <th>20451</th>\n",
       "      <td>20481000</td>\n",
       "      <td>1.498075e+07</td>\n",
       "      <td>1638480.0</td>\n",
       "      <td>512025.0</td>\n",
       "      <td>4096200.0</td>\n",
       "      <td>204810.000000</td>\n",
       "      <td>6.451515e+06</td>\n",
       "      <td>1.402948e+07</td>\n",
       "    </tr>\n",
       "    <tr>\n",
       "      <th>20452</th>\n",
       "      <td>20482000</td>\n",
       "      <td>1.498148e+07</td>\n",
       "      <td>1638560.0</td>\n",
       "      <td>512050.0</td>\n",
       "      <td>4096400.0</td>\n",
       "      <td>204820.000000</td>\n",
       "      <td>6.451830e+06</td>\n",
       "      <td>1.403017e+07</td>\n",
       "    </tr>\n",
       "    <tr>\n",
       "      <th>20453</th>\n",
       "      <td>20483000</td>\n",
       "      <td>1.498221e+07</td>\n",
       "      <td>1638640.0</td>\n",
       "      <td>512075.0</td>\n",
       "      <td>4096600.0</td>\n",
       "      <td>204830.000000</td>\n",
       "      <td>6.452145e+06</td>\n",
       "      <td>1.403086e+07</td>\n",
       "    </tr>\n",
       "    <tr>\n",
       "      <th>20454</th>\n",
       "      <td>20484000</td>\n",
       "      <td>1.498294e+07</td>\n",
       "      <td>1638720.0</td>\n",
       "      <td>512100.0</td>\n",
       "      <td>4096800.0</td>\n",
       "      <td>204840.000000</td>\n",
       "      <td>6.452460e+06</td>\n",
       "      <td>1.403154e+07</td>\n",
       "    </tr>\n",
       "    <tr>\n",
       "      <th>20455</th>\n",
       "      <td>20485000</td>\n",
       "      <td>1.498367e+07</td>\n",
       "      <td>1638800.0</td>\n",
       "      <td>512125.0</td>\n",
       "      <td>4097000.0</td>\n",
       "      <td>204850.000000</td>\n",
       "      <td>6.452775e+06</td>\n",
       "      <td>1.403222e+07</td>\n",
       "    </tr>\n",
       "  </tbody>\n",
       "</table>\n",
       "<p>20456 rows × 8 columns</p>\n",
       "</div>"
      ],
      "text/plain": [
       "          Basic  NetPay adjusted for Tax+Pension+NHF    Pension       NHF  \\\n",
       "0         30000                         2.655000e+04     2400.0     750.0   \n",
       "1         31000                         2.740352e+04     2480.0     775.0   \n",
       "2         32000                         2.824987e+04     2560.0     800.0   \n",
       "3         33000                         2.909622e+04     2640.0     825.0   \n",
       "4         34000                         2.994257e+04     2720.0     850.0   \n",
       "...         ...                                  ...        ...       ...   \n",
       "20451  20481000                         1.498075e+07  1638480.0  512025.0   \n",
       "20452  20482000                         1.498148e+07  1638560.0  512050.0   \n",
       "20453  20483000                         1.498221e+07  1638640.0  512075.0   \n",
       "20454  20484000                         1.498294e+07  1638720.0  512100.0   \n",
       "20455  20485000                         1.498367e+07  1638800.0  512125.0   \n",
       "\n",
       "       Standard_relief  Personal_relief  Total_relief   Net_taxable  \n",
       "0               6000.0     16666.666667  2.581667e+04  4.183333e+03  \n",
       "1               6200.0     16666.666667  2.612167e+04  4.878333e+03  \n",
       "2               6400.0     16666.666667  2.642667e+04  5.573333e+03  \n",
       "3               6600.0     16666.666667  2.673167e+04  6.268333e+03  \n",
       "4               6800.0     16666.666667  2.703667e+04  6.963333e+03  \n",
       "...                ...              ...           ...           ...  \n",
       "20451        4096200.0    204810.000000  6.451515e+06  1.402948e+07  \n",
       "20452        4096400.0    204820.000000  6.451830e+06  1.403017e+07  \n",
       "20453        4096600.0    204830.000000  6.452145e+06  1.403086e+07  \n",
       "20454        4096800.0    204840.000000  6.452460e+06  1.403154e+07  \n",
       "20455        4097000.0    204850.000000  6.452775e+06  1.403222e+07  \n",
       "\n",
       "[20456 rows x 8 columns]"
      ]
     },
     "execution_count": 11,
     "metadata": {},
     "output_type": "execute_result"
    }
   ],
   "source": [
    "df"
   ]
  },
  {
   "cell_type": "code",
   "execution_count": 12,
   "metadata": {},
   "outputs": [],
   "source": [
    "X = df.drop('NetPay adjusted for Tax+Pension+NHF',1)\n",
    "y = df['NetPay adjusted for Tax+Pension+NHF']"
   ]
  },
  {
   "cell_type": "code",
   "execution_count": 13,
   "metadata": {},
   "outputs": [],
   "source": [
    "from sklearn.model_selection import train_test_split"
   ]
  },
  {
   "cell_type": "code",
   "execution_count": 14,
   "metadata": {},
   "outputs": [],
   "source": [
    "X_train, X_test, y_train, y_test = train_test_split(X, y, test_size=0.25, random_state=5)"
   ]
  },
  {
   "cell_type": "code",
   "execution_count": 15,
   "metadata": {},
   "outputs": [
    {
     "data": {
      "text/html": [
       "<div>\n",
       "<style scoped>\n",
       "    .dataframe tbody tr th:only-of-type {\n",
       "        vertical-align: middle;\n",
       "    }\n",
       "\n",
       "    .dataframe tbody tr th {\n",
       "        vertical-align: top;\n",
       "    }\n",
       "\n",
       "    .dataframe thead th {\n",
       "        text-align: right;\n",
       "    }\n",
       "</style>\n",
       "<table border=\"1\" class=\"dataframe\">\n",
       "  <thead>\n",
       "    <tr style=\"text-align: right;\">\n",
       "      <th></th>\n",
       "      <th>Basic</th>\n",
       "      <th>Pension</th>\n",
       "      <th>NHF</th>\n",
       "      <th>Standard_relief</th>\n",
       "      <th>Personal_relief</th>\n",
       "      <th>Total_relief</th>\n",
       "      <th>Net_taxable</th>\n",
       "    </tr>\n",
       "  </thead>\n",
       "  <tbody>\n",
       "    <tr>\n",
       "      <th>326</th>\n",
       "      <td>356000</td>\n",
       "      <td>28480.0</td>\n",
       "      <td>8900.0</td>\n",
       "      <td>71200.0</td>\n",
       "      <td>16666.666667</td>\n",
       "      <td>1.252467e+05</td>\n",
       "      <td>2.307533e+05</td>\n",
       "    </tr>\n",
       "    <tr>\n",
       "      <th>3367</th>\n",
       "      <td>3397000</td>\n",
       "      <td>271760.0</td>\n",
       "      <td>84925.0</td>\n",
       "      <td>679400.0</td>\n",
       "      <td>33970.000000</td>\n",
       "      <td>1.070055e+06</td>\n",
       "      <td>2.326945e+06</td>\n",
       "    </tr>\n",
       "    <tr>\n",
       "      <th>6761</th>\n",
       "      <td>6791000</td>\n",
       "      <td>543280.0</td>\n",
       "      <td>169775.0</td>\n",
       "      <td>1358200.0</td>\n",
       "      <td>67910.000000</td>\n",
       "      <td>2.139165e+06</td>\n",
       "      <td>4.651835e+06</td>\n",
       "    </tr>\n",
       "    <tr>\n",
       "      <th>2627</th>\n",
       "      <td>2657000</td>\n",
       "      <td>212560.0</td>\n",
       "      <td>66425.0</td>\n",
       "      <td>531400.0</td>\n",
       "      <td>26570.000000</td>\n",
       "      <td>8.369550e+05</td>\n",
       "      <td>1.820045e+06</td>\n",
       "    </tr>\n",
       "    <tr>\n",
       "      <th>9398</th>\n",
       "      <td>9428000</td>\n",
       "      <td>754240.0</td>\n",
       "      <td>235700.0</td>\n",
       "      <td>1885600.0</td>\n",
       "      <td>94280.000000</td>\n",
       "      <td>2.969820e+06</td>\n",
       "      <td>6.458180e+06</td>\n",
       "    </tr>\n",
       "  </tbody>\n",
       "</table>\n",
       "</div>"
      ],
      "text/plain": [
       "        Basic   Pension       NHF  Standard_relief  Personal_relief  \\\n",
       "326    356000   28480.0    8900.0          71200.0     16666.666667   \n",
       "3367  3397000  271760.0   84925.0         679400.0     33970.000000   \n",
       "6761  6791000  543280.0  169775.0        1358200.0     67910.000000   \n",
       "2627  2657000  212560.0   66425.0         531400.0     26570.000000   \n",
       "9398  9428000  754240.0  235700.0        1885600.0     94280.000000   \n",
       "\n",
       "      Total_relief   Net_taxable  \n",
       "326   1.252467e+05  2.307533e+05  \n",
       "3367  1.070055e+06  2.326945e+06  \n",
       "6761  2.139165e+06  4.651835e+06  \n",
       "2627  8.369550e+05  1.820045e+06  \n",
       "9398  2.969820e+06  6.458180e+06  "
      ]
     },
     "execution_count": 15,
     "metadata": {},
     "output_type": "execute_result"
    }
   ],
   "source": [
    "X_test.head()"
   ]
  },
  {
   "cell_type": "code",
   "execution_count": 16,
   "metadata": {},
   "outputs": [],
   "source": [
    "scaler = MinMaxScaler()\n",
    "X_train = scaler.fit_transform(X_train)\n",
    "X_test = scaler.transform(X_test)"
   ]
  },
  {
   "cell_type": "code",
   "execution_count": 17,
   "metadata": {},
   "outputs": [],
   "source": [
    "from sklearn.linear_model import LinearRegression\n",
    "from sklearn.preprocessing import PolynomialFeatures\n",
    "from sklearn.pipeline import Pipeline"
   ]
  },
  {
   "cell_type": "code",
   "execution_count": 18,
   "metadata": {},
   "outputs": [],
   "source": [
    "model_pipeline = Pipeline([('polynomial_features',PolynomialFeatures(degree=2)),\n",
    "                           ('model',LinearRegression())])"
   ]
  },
  {
   "cell_type": "code",
   "execution_count": 19,
   "metadata": {},
   "outputs": [
    {
     "data": {
      "text/plain": [
       "Pipeline(steps=[('polynomial_features', PolynomialFeatures()),\n",
       "                ('model', LinearRegression())])"
      ]
     },
     "execution_count": 19,
     "metadata": {},
     "output_type": "execute_result"
    }
   ],
   "source": [
    "model_pipeline.fit(X_train, y_train)"
   ]
  },
  {
   "cell_type": "code",
   "execution_count": 20,
   "metadata": {},
   "outputs": [],
   "source": [
    "y_preds = model_pipeline.predict(X_test)"
   ]
  },
  {
   "cell_type": "code",
   "execution_count": 21,
   "metadata": {},
   "outputs": [
    {
     "data": {
      "text/plain": [
       "513.3748932341953"
      ]
     },
     "execution_count": 21,
     "metadata": {},
     "output_type": "execute_result"
    }
   ],
   "source": [
    "rmse(y_test,y_preds)"
   ]
  },
  {
   "cell_type": "code",
   "execution_count": null,
   "metadata": {},
   "outputs": [],
   "source": [
    "import pickle"
   ]
  },
  {
   "cell_type": "code",
   "execution_count": null,
   "metadata": {},
   "outputs": [],
   "source": [
    "pickle.dump(model_pipeline,open('netpay_regressor.pkl','wb'))\n",
    "pickle.dump(scaler,open('netpay_scaler.pkl','wb'))"
   ]
  },
  {
   "cell_type": "code",
   "execution_count": null,
   "metadata": {},
   "outputs": [],
   "source": []
  }
 ],
 "metadata": {
  "kernelspec": {
   "display_name": "Python 3",
   "language": "python",
   "name": "python3"
  },
  "language_info": {
   "codemirror_mode": {
    "name": "ipython",
    "version": 3
   },
   "file_extension": ".py",
   "mimetype": "text/x-python",
   "name": "python",
   "nbconvert_exporter": "python",
   "pygments_lexer": "ipython3",
   "version": "3.8.3"
  }
 },
 "nbformat": 4,
 "nbformat_minor": 2
}
