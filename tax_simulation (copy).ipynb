{
 "cells": [
  {
   "cell_type": "code",
   "execution_count": 1,
   "metadata": {},
   "outputs": [],
   "source": [
    "# Import the libraries we will be using for this project\n",
    "import pandas as pd\n",
    "import numpy as np\n",
    "import matplotlib.pyplot as plt\n",
    "%matplotlib inline\n",
    "import seaborn as sns"
   ]
  },
  {
   "cell_type": "code",
   "execution_count": 2,
   "metadata": {},
   "outputs": [],
   "source": [
    "# Bring in the data we will be working on in this project\n",
    "df = pd.read_excel('Tax Simulation for Data science.xlsx')\n",
    "# The data has been stored in the variable name df"
   ]
  },
  {
   "cell_type": "code",
   "execution_count": 3,
   "metadata": {},
   "outputs": [
    {
     "data": {
      "text/html": [
       "<div>\n",
       "<style scoped>\n",
       "    .dataframe tbody tr th:only-of-type {\n",
       "        vertical-align: middle;\n",
       "    }\n",
       "\n",
       "    .dataframe tbody tr th {\n",
       "        vertical-align: top;\n",
       "    }\n",
       "\n",
       "    .dataframe thead th {\n",
       "        text-align: right;\n",
       "    }\n",
       "</style>\n",
       "<table border=\"1\" class=\"dataframe\">\n",
       "  <thead>\n",
       "    <tr style=\"text-align: right;\">\n",
       "      <th></th>\n",
       "      <th>Unnamed: 0</th>\n",
       "      <th>Basic</th>\n",
       "      <th>Housing</th>\n",
       "      <th>Transport</th>\n",
       "      <th>Other Taxable Allowances</th>\n",
       "      <th>Other Non Taxable Allowances</th>\n",
       "      <th>Gross</th>\n",
       "      <th>Taxable Gross</th>\n",
       "      <th>Pension</th>\n",
       "      <th>NHF</th>\n",
       "      <th>Personal\\nrelief</th>\n",
       "      <th>Standard Relief</th>\n",
       "      <th>Total Relief</th>\n",
       "      <th>Net Taxable</th>\n",
       "      <th>Computed Tax</th>\n",
       "      <th>True Tax</th>\n",
       "      <th>NetPay adjusted for Tax Only</th>\n",
       "      <th>NetPay adjusted for Tax+Pension+NHF</th>\n",
       "    </tr>\n",
       "  </thead>\n",
       "  <tbody>\n",
       "    <tr>\n",
       "      <td>0</td>\n",
       "      <td>NaN</td>\n",
       "      <td>10000</td>\n",
       "      <td>NaN</td>\n",
       "      <td>NaN</td>\n",
       "      <td>NaN</td>\n",
       "      <td>NaN</td>\n",
       "      <td>10000</td>\n",
       "      <td>10000</td>\n",
       "      <td>800</td>\n",
       "      <td>250</td>\n",
       "      <td>16666.66</td>\n",
       "      <td>2000</td>\n",
       "      <td>19716.66</td>\n",
       "      <td>-9716.66</td>\n",
       "      <td>-680.1662</td>\n",
       "      <td>100.0</td>\n",
       "      <td>9900.0</td>\n",
       "      <td>8850.0</td>\n",
       "    </tr>\n",
       "    <tr>\n",
       "      <td>1</td>\n",
       "      <td>NaN</td>\n",
       "      <td>11000</td>\n",
       "      <td>NaN</td>\n",
       "      <td>NaN</td>\n",
       "      <td>NaN</td>\n",
       "      <td>NaN</td>\n",
       "      <td>11000</td>\n",
       "      <td>11000</td>\n",
       "      <td>880</td>\n",
       "      <td>275</td>\n",
       "      <td>16666.66</td>\n",
       "      <td>2200</td>\n",
       "      <td>20021.66</td>\n",
       "      <td>-9021.66</td>\n",
       "      <td>-631.5162</td>\n",
       "      <td>110.0</td>\n",
       "      <td>10890.0</td>\n",
       "      <td>9735.0</td>\n",
       "    </tr>\n",
       "    <tr>\n",
       "      <td>2</td>\n",
       "      <td>NaN</td>\n",
       "      <td>12000</td>\n",
       "      <td>NaN</td>\n",
       "      <td>NaN</td>\n",
       "      <td>NaN</td>\n",
       "      <td>NaN</td>\n",
       "      <td>12000</td>\n",
       "      <td>12000</td>\n",
       "      <td>960</td>\n",
       "      <td>300</td>\n",
       "      <td>16666.66</td>\n",
       "      <td>2400</td>\n",
       "      <td>20326.66</td>\n",
       "      <td>-8326.66</td>\n",
       "      <td>-582.8662</td>\n",
       "      <td>120.0</td>\n",
       "      <td>11880.0</td>\n",
       "      <td>10620.0</td>\n",
       "    </tr>\n",
       "    <tr>\n",
       "      <td>3</td>\n",
       "      <td>NaN</td>\n",
       "      <td>13000</td>\n",
       "      <td>NaN</td>\n",
       "      <td>NaN</td>\n",
       "      <td>NaN</td>\n",
       "      <td>NaN</td>\n",
       "      <td>13000</td>\n",
       "      <td>13000</td>\n",
       "      <td>1040</td>\n",
       "      <td>325</td>\n",
       "      <td>16666.66</td>\n",
       "      <td>2600</td>\n",
       "      <td>20631.66</td>\n",
       "      <td>-7631.66</td>\n",
       "      <td>-534.2162</td>\n",
       "      <td>130.0</td>\n",
       "      <td>12870.0</td>\n",
       "      <td>11505.0</td>\n",
       "    </tr>\n",
       "    <tr>\n",
       "      <td>4</td>\n",
       "      <td>NaN</td>\n",
       "      <td>14000</td>\n",
       "      <td>NaN</td>\n",
       "      <td>NaN</td>\n",
       "      <td>NaN</td>\n",
       "      <td>NaN</td>\n",
       "      <td>14000</td>\n",
       "      <td>14000</td>\n",
       "      <td>1120</td>\n",
       "      <td>350</td>\n",
       "      <td>16666.66</td>\n",
       "      <td>2800</td>\n",
       "      <td>20936.66</td>\n",
       "      <td>-6936.66</td>\n",
       "      <td>-485.5662</td>\n",
       "      <td>140.0</td>\n",
       "      <td>13860.0</td>\n",
       "      <td>12390.0</td>\n",
       "    </tr>\n",
       "  </tbody>\n",
       "</table>\n",
       "</div>"
      ],
      "text/plain": [
       "   Unnamed: 0  Basic  Housing  Transport  Other Taxable Allowances  \\\n",
       "0         NaN  10000      NaN        NaN                       NaN   \n",
       "1         NaN  11000      NaN        NaN                       NaN   \n",
       "2         NaN  12000      NaN        NaN                       NaN   \n",
       "3         NaN  13000      NaN        NaN                       NaN   \n",
       "4         NaN  14000      NaN        NaN                       NaN   \n",
       "\n",
       "   Other Non Taxable Allowances  Gross  Taxable Gross  Pension  NHF  \\\n",
       "0                           NaN  10000          10000      800  250   \n",
       "1                           NaN  11000          11000      880  275   \n",
       "2                           NaN  12000          12000      960  300   \n",
       "3                           NaN  13000          13000     1040  325   \n",
       "4                           NaN  14000          14000     1120  350   \n",
       "\n",
       "   Personal\\nrelief  Standard Relief  Total Relief  Net Taxable  Computed Tax  \\\n",
       "0          16666.66             2000      19716.66     -9716.66     -680.1662   \n",
       "1          16666.66             2200      20021.66     -9021.66     -631.5162   \n",
       "2          16666.66             2400      20326.66     -8326.66     -582.8662   \n",
       "3          16666.66             2600      20631.66     -7631.66     -534.2162   \n",
       "4          16666.66             2800      20936.66     -6936.66     -485.5662   \n",
       "\n",
       "   True Tax  NetPay adjusted for Tax Only  NetPay adjusted for Tax+Pension+NHF  \n",
       "0     100.0                        9900.0                               8850.0  \n",
       "1     110.0                       10890.0                               9735.0  \n",
       "2     120.0                       11880.0                              10620.0  \n",
       "3     130.0                       12870.0                              11505.0  \n",
       "4     140.0                       13860.0                              12390.0  "
      ]
     },
     "execution_count": 3,
     "metadata": {},
     "output_type": "execute_result"
    }
   ],
   "source": [
    "# Let's view the head of our data\n",
    "df.head()"
   ]
  },
  {
   "cell_type": "code",
   "execution_count": 4,
   "metadata": {
    "scrolled": true
   },
   "outputs": [
    {
     "data": {
      "text/plain": [
       "Unnamed: 0                             20476\n",
       "Basic                                      0\n",
       "Housing                                20476\n",
       "Transport                              20476\n",
       "Other Taxable Allowances               20476\n",
       "Other Non Taxable Allowances           20476\n",
       "Gross                                      0\n",
       "Taxable Gross                              0\n",
       "Pension                                    0\n",
       "NHF                                        0\n",
       "Personal\\nrelief                           0\n",
       "Standard Relief                            0\n",
       "Total Relief                               0\n",
       "Net Taxable                                0\n",
       "Computed Tax                               0\n",
       "True Tax                                   0\n",
       "NetPay adjusted for Tax Only               0\n",
       "NetPay adjusted for Tax+Pension+NHF        0\n",
       "dtype: int64"
      ]
     },
     "execution_count": 4,
     "metadata": {},
     "output_type": "execute_result"
    }
   ],
   "source": [
    "# Checking out for missing values in the data\n",
    "df.isnull().sum()"
   ]
  },
  {
   "cell_type": "code",
   "execution_count": 5,
   "metadata": {},
   "outputs": [],
   "source": [
    "# Drop all missing values in the data\n",
    "df.drop(['Unnamed: 0','Housing', 'Transport', 'Other Taxable Allowances', 'Other Non Taxable Allowances' ], axis=1, inplace=True)"
   ]
  },
  {
   "cell_type": "code",
   "execution_count": 6,
   "metadata": {},
   "outputs": [
    {
     "data": {
      "text/html": [
       "<div>\n",
       "<style scoped>\n",
       "    .dataframe tbody tr th:only-of-type {\n",
       "        vertical-align: middle;\n",
       "    }\n",
       "\n",
       "    .dataframe tbody tr th {\n",
       "        vertical-align: top;\n",
       "    }\n",
       "\n",
       "    .dataframe thead th {\n",
       "        text-align: right;\n",
       "    }\n",
       "</style>\n",
       "<table border=\"1\" class=\"dataframe\">\n",
       "  <thead>\n",
       "    <tr style=\"text-align: right;\">\n",
       "      <th></th>\n",
       "      <th>Basic</th>\n",
       "      <th>Gross</th>\n",
       "      <th>Taxable Gross</th>\n",
       "      <th>Pension</th>\n",
       "      <th>NHF</th>\n",
       "      <th>Personal\\nrelief</th>\n",
       "      <th>Standard Relief</th>\n",
       "      <th>Total Relief</th>\n",
       "      <th>Net Taxable</th>\n",
       "      <th>Computed Tax</th>\n",
       "      <th>True Tax</th>\n",
       "      <th>NetPay adjusted for Tax Only</th>\n",
       "      <th>NetPay adjusted for Tax+Pension+NHF</th>\n",
       "    </tr>\n",
       "  </thead>\n",
       "  <tbody>\n",
       "    <tr>\n",
       "      <td>0</td>\n",
       "      <td>10000</td>\n",
       "      <td>10000</td>\n",
       "      <td>10000</td>\n",
       "      <td>800</td>\n",
       "      <td>250</td>\n",
       "      <td>16666.66</td>\n",
       "      <td>2000</td>\n",
       "      <td>19716.66</td>\n",
       "      <td>-9716.66</td>\n",
       "      <td>-6.801662e+02</td>\n",
       "      <td>1.000000e+02</td>\n",
       "      <td>9.900000e+03</td>\n",
       "      <td>8.850000e+03</td>\n",
       "    </tr>\n",
       "    <tr>\n",
       "      <td>1</td>\n",
       "      <td>11000</td>\n",
       "      <td>11000</td>\n",
       "      <td>11000</td>\n",
       "      <td>880</td>\n",
       "      <td>275</td>\n",
       "      <td>16666.66</td>\n",
       "      <td>2200</td>\n",
       "      <td>20021.66</td>\n",
       "      <td>-9021.66</td>\n",
       "      <td>-6.315162e+02</td>\n",
       "      <td>1.100000e+02</td>\n",
       "      <td>1.089000e+04</td>\n",
       "      <td>9.735000e+03</td>\n",
       "    </tr>\n",
       "    <tr>\n",
       "      <td>2</td>\n",
       "      <td>12000</td>\n",
       "      <td>12000</td>\n",
       "      <td>12000</td>\n",
       "      <td>960</td>\n",
       "      <td>300</td>\n",
       "      <td>16666.66</td>\n",
       "      <td>2400</td>\n",
       "      <td>20326.66</td>\n",
       "      <td>-8326.66</td>\n",
       "      <td>-5.828662e+02</td>\n",
       "      <td>1.200000e+02</td>\n",
       "      <td>1.188000e+04</td>\n",
       "      <td>1.062000e+04</td>\n",
       "    </tr>\n",
       "    <tr>\n",
       "      <td>3</td>\n",
       "      <td>13000</td>\n",
       "      <td>13000</td>\n",
       "      <td>13000</td>\n",
       "      <td>1040</td>\n",
       "      <td>325</td>\n",
       "      <td>16666.66</td>\n",
       "      <td>2600</td>\n",
       "      <td>20631.66</td>\n",
       "      <td>-7631.66</td>\n",
       "      <td>-5.342162e+02</td>\n",
       "      <td>1.300000e+02</td>\n",
       "      <td>1.287000e+04</td>\n",
       "      <td>1.150500e+04</td>\n",
       "    </tr>\n",
       "    <tr>\n",
       "      <td>4</td>\n",
       "      <td>14000</td>\n",
       "      <td>14000</td>\n",
       "      <td>14000</td>\n",
       "      <td>1120</td>\n",
       "      <td>350</td>\n",
       "      <td>16666.66</td>\n",
       "      <td>2800</td>\n",
       "      <td>20936.66</td>\n",
       "      <td>-6936.66</td>\n",
       "      <td>-4.855662e+02</td>\n",
       "      <td>1.400000e+02</td>\n",
       "      <td>1.386000e+04</td>\n",
       "      <td>1.239000e+04</td>\n",
       "    </tr>\n",
       "    <tr>\n",
       "      <td>...</td>\n",
       "      <td>...</td>\n",
       "      <td>...</td>\n",
       "      <td>...</td>\n",
       "      <td>...</td>\n",
       "      <td>...</td>\n",
       "      <td>...</td>\n",
       "      <td>...</td>\n",
       "      <td>...</td>\n",
       "      <td>...</td>\n",
       "      <td>...</td>\n",
       "      <td>...</td>\n",
       "      <td>...</td>\n",
       "      <td>...</td>\n",
       "    </tr>\n",
       "    <tr>\n",
       "      <td>20471</td>\n",
       "      <td>20481000</td>\n",
       "      <td>20481000</td>\n",
       "      <td>20481000</td>\n",
       "      <td>1638480</td>\n",
       "      <td>512025</td>\n",
       "      <td>204810.00</td>\n",
       "      <td>4096200</td>\n",
       "      <td>6451515.00</td>\n",
       "      <td>14029485.00</td>\n",
       "      <td>3.349743e+06</td>\n",
       "      <td>3.349743e+06</td>\n",
       "      <td>1.713126e+07</td>\n",
       "      <td>1.498075e+07</td>\n",
       "    </tr>\n",
       "    <tr>\n",
       "      <td>20472</td>\n",
       "      <td>20482000</td>\n",
       "      <td>20482000</td>\n",
       "      <td>20482000</td>\n",
       "      <td>1638560</td>\n",
       "      <td>512050</td>\n",
       "      <td>204820.00</td>\n",
       "      <td>4096400</td>\n",
       "      <td>6451830.00</td>\n",
       "      <td>14030170.00</td>\n",
       "      <td>3.349907e+06</td>\n",
       "      <td>3.349907e+06</td>\n",
       "      <td>1.713209e+07</td>\n",
       "      <td>1.498148e+07</td>\n",
       "    </tr>\n",
       "    <tr>\n",
       "      <td>20473</td>\n",
       "      <td>20483000</td>\n",
       "      <td>20483000</td>\n",
       "      <td>20483000</td>\n",
       "      <td>1638640</td>\n",
       "      <td>512075</td>\n",
       "      <td>204830.00</td>\n",
       "      <td>4096600</td>\n",
       "      <td>6452145.00</td>\n",
       "      <td>14030855.00</td>\n",
       "      <td>3.350072e+06</td>\n",
       "      <td>3.350072e+06</td>\n",
       "      <td>1.713293e+07</td>\n",
       "      <td>1.498221e+07</td>\n",
       "    </tr>\n",
       "    <tr>\n",
       "      <td>20474</td>\n",
       "      <td>20484000</td>\n",
       "      <td>20484000</td>\n",
       "      <td>20484000</td>\n",
       "      <td>1638720</td>\n",
       "      <td>512100</td>\n",
       "      <td>204840.00</td>\n",
       "      <td>4096800</td>\n",
       "      <td>6452460.00</td>\n",
       "      <td>14031540.00</td>\n",
       "      <td>3.350236e+06</td>\n",
       "      <td>3.350236e+06</td>\n",
       "      <td>1.713376e+07</td>\n",
       "      <td>1.498294e+07</td>\n",
       "    </tr>\n",
       "    <tr>\n",
       "      <td>20475</td>\n",
       "      <td>20485000</td>\n",
       "      <td>20485000</td>\n",
       "      <td>20485000</td>\n",
       "      <td>1638800</td>\n",
       "      <td>512125</td>\n",
       "      <td>204850.00</td>\n",
       "      <td>4097000</td>\n",
       "      <td>6452775.00</td>\n",
       "      <td>14032225.00</td>\n",
       "      <td>3.350401e+06</td>\n",
       "      <td>3.350401e+06</td>\n",
       "      <td>1.713460e+07</td>\n",
       "      <td>1.498367e+07</td>\n",
       "    </tr>\n",
       "  </tbody>\n",
       "</table>\n",
       "<p>20476 rows × 13 columns</p>\n",
       "</div>"
      ],
      "text/plain": [
       "          Basic     Gross  Taxable Gross  Pension     NHF  Personal\\nrelief  \\\n",
       "0         10000     10000          10000      800     250          16666.66   \n",
       "1         11000     11000          11000      880     275          16666.66   \n",
       "2         12000     12000          12000      960     300          16666.66   \n",
       "3         13000     13000          13000     1040     325          16666.66   \n",
       "4         14000     14000          14000     1120     350          16666.66   \n",
       "...         ...       ...            ...      ...     ...               ...   \n",
       "20471  20481000  20481000       20481000  1638480  512025         204810.00   \n",
       "20472  20482000  20482000       20482000  1638560  512050         204820.00   \n",
       "20473  20483000  20483000       20483000  1638640  512075         204830.00   \n",
       "20474  20484000  20484000       20484000  1638720  512100         204840.00   \n",
       "20475  20485000  20485000       20485000  1638800  512125         204850.00   \n",
       "\n",
       "       Standard Relief  Total Relief  Net Taxable  Computed Tax      True Tax  \\\n",
       "0                 2000      19716.66     -9716.66 -6.801662e+02  1.000000e+02   \n",
       "1                 2200      20021.66     -9021.66 -6.315162e+02  1.100000e+02   \n",
       "2                 2400      20326.66     -8326.66 -5.828662e+02  1.200000e+02   \n",
       "3                 2600      20631.66     -7631.66 -5.342162e+02  1.300000e+02   \n",
       "4                 2800      20936.66     -6936.66 -4.855662e+02  1.400000e+02   \n",
       "...                ...           ...          ...           ...           ...   \n",
       "20471          4096200    6451515.00  14029485.00  3.349743e+06  3.349743e+06   \n",
       "20472          4096400    6451830.00  14030170.00  3.349907e+06  3.349907e+06   \n",
       "20473          4096600    6452145.00  14030855.00  3.350072e+06  3.350072e+06   \n",
       "20474          4096800    6452460.00  14031540.00  3.350236e+06  3.350236e+06   \n",
       "20475          4097000    6452775.00  14032225.00  3.350401e+06  3.350401e+06   \n",
       "\n",
       "       NetPay adjusted for Tax Only  NetPay adjusted for Tax+Pension+NHF  \n",
       "0                      9.900000e+03                         8.850000e+03  \n",
       "1                      1.089000e+04                         9.735000e+03  \n",
       "2                      1.188000e+04                         1.062000e+04  \n",
       "3                      1.287000e+04                         1.150500e+04  \n",
       "4                      1.386000e+04                         1.239000e+04  \n",
       "...                             ...                                  ...  \n",
       "20471                  1.713126e+07                         1.498075e+07  \n",
       "20472                  1.713209e+07                         1.498148e+07  \n",
       "20473                  1.713293e+07                         1.498221e+07  \n",
       "20474                  1.713376e+07                         1.498294e+07  \n",
       "20475                  1.713460e+07                         1.498367e+07  \n",
       "\n",
       "[20476 rows x 13 columns]"
      ]
     },
     "execution_count": 6,
     "metadata": {},
     "output_type": "execute_result"
    }
   ],
   "source": [
    "#View the data again\n",
    "df"
   ]
  },
  {
   "cell_type": "code",
   "execution_count": 7,
   "metadata": {},
   "outputs": [
    {
     "name": "stdout",
     "output_type": "stream",
     "text": [
      "We have 20476 rows in our data\n",
      "We have 13 columns in our data\n"
     ]
    }
   ],
   "source": [
    "#Shape of the dataset\n",
    "df.shape\n",
    "print('We have {} rows in our data'.format(df.shape[0]))\n",
    "print('We have {} columns in our data'.format(df.shape[1]))"
   ]
  },
  {
   "cell_type": "code",
   "execution_count": 8,
   "metadata": {},
   "outputs": [
    {
     "name": "stdout",
     "output_type": "stream",
     "text": [
      "<class 'pandas.core.frame.DataFrame'>\n",
      "RangeIndex: 20476 entries, 0 to 20475\n",
      "Data columns (total 13 columns):\n",
      "Basic                                  20476 non-null int64\n",
      "Gross                                  20476 non-null int64\n",
      "Taxable Gross                          20476 non-null int64\n",
      "Pension                                20476 non-null int64\n",
      "NHF                                    20476 non-null int64\n",
      "Personal\n",
      "relief                        20476 non-null float64\n",
      "Standard Relief                        20476 non-null int64\n",
      "Total Relief                           20476 non-null float64\n",
      "Net Taxable                            20476 non-null float64\n",
      "Computed Tax                           20476 non-null float64\n",
      "True Tax                               20476 non-null float64\n",
      "NetPay adjusted for Tax Only           20476 non-null float64\n",
      "NetPay adjusted for Tax+Pension+NHF    20476 non-null float64\n",
      "dtypes: float64(7), int64(6)\n",
      "memory usage: 2.0 MB\n"
     ]
    }
   ],
   "source": [
    "#General Information about the data\n",
    "df.info()"
   ]
  },
  {
   "cell_type": "code",
   "execution_count": 9,
   "metadata": {},
   "outputs": [
    {
     "data": {
      "text/html": [
       "<div>\n",
       "<style scoped>\n",
       "    .dataframe tbody tr th:only-of-type {\n",
       "        vertical-align: middle;\n",
       "    }\n",
       "\n",
       "    .dataframe tbody tr th {\n",
       "        vertical-align: top;\n",
       "    }\n",
       "\n",
       "    .dataframe thead th {\n",
       "        text-align: right;\n",
       "    }\n",
       "</style>\n",
       "<table border=\"1\" class=\"dataframe\">\n",
       "  <thead>\n",
       "    <tr style=\"text-align: right;\">\n",
       "      <th></th>\n",
       "      <th>Basic</th>\n",
       "      <th>Gross</th>\n",
       "      <th>Taxable Gross</th>\n",
       "      <th>Pension</th>\n",
       "      <th>NHF</th>\n",
       "      <th>Personal\\nrelief</th>\n",
       "      <th>Standard Relief</th>\n",
       "      <th>Total Relief</th>\n",
       "      <th>Net Taxable</th>\n",
       "      <th>Computed Tax</th>\n",
       "      <th>True Tax</th>\n",
       "      <th>NetPay adjusted for Tax Only</th>\n",
       "      <th>NetPay adjusted for Tax+Pension+NHF</th>\n",
       "    </tr>\n",
       "  </thead>\n",
       "  <tbody>\n",
       "    <tr>\n",
       "      <td>count</td>\n",
       "      <td>2.047600e+04</td>\n",
       "      <td>2.047600e+04</td>\n",
       "      <td>2.047600e+04</td>\n",
       "      <td>2.047600e+04</td>\n",
       "      <td>20476.000000</td>\n",
       "      <td>20476.000000</td>\n",
       "      <td>2.047600e+04</td>\n",
       "      <td>2.047600e+04</td>\n",
       "      <td>2.047600e+04</td>\n",
       "      <td>2.047600e+04</td>\n",
       "      <td>2.047600e+04</td>\n",
       "      <td>2.047600e+04</td>\n",
       "      <td>2.047600e+04</td>\n",
       "    </tr>\n",
       "    <tr>\n",
       "      <td>mean</td>\n",
       "      <td>1.024750e+07</td>\n",
       "      <td>1.024750e+07</td>\n",
       "      <td>1.024750e+07</td>\n",
       "      <td>8.198000e+05</td>\n",
       "      <td>256187.500000</td>\n",
       "      <td>103145.589745</td>\n",
       "      <td>2.049500e+06</td>\n",
       "      <td>3.228633e+06</td>\n",
       "      <td>7.018867e+06</td>\n",
       "      <td>1.667311e+06</td>\n",
       "      <td>1.667312e+06</td>\n",
       "      <td>8.580188e+06</td>\n",
       "      <td>7.504201e+06</td>\n",
       "    </tr>\n",
       "    <tr>\n",
       "      <td>std</td>\n",
       "      <td>5.911056e+06</td>\n",
       "      <td>5.911056e+06</td>\n",
       "      <td>5.911056e+06</td>\n",
       "      <td>4.728845e+05</td>\n",
       "      <td>147776.409794</td>\n",
       "      <td>58061.262154</td>\n",
       "      <td>1.182211e+06</td>\n",
       "      <td>1.860885e+06</td>\n",
       "      <td>4.050173e+06</td>\n",
       "      <td>9.718421e+05</td>\n",
       "      <td>9.718414e+05</td>\n",
       "      <td>4.939215e+06</td>\n",
       "      <td>4.318555e+06</td>\n",
       "    </tr>\n",
       "    <tr>\n",
       "      <td>min</td>\n",
       "      <td>1.000000e+04</td>\n",
       "      <td>1.000000e+04</td>\n",
       "      <td>1.000000e+04</td>\n",
       "      <td>8.000000e+02</td>\n",
       "      <td>250.000000</td>\n",
       "      <td>16666.660000</td>\n",
       "      <td>2.000000e+03</td>\n",
       "      <td>1.971666e+04</td>\n",
       "      <td>-9.716660e+03</td>\n",
       "      <td>-6.801662e+02</td>\n",
       "      <td>1.000000e+02</td>\n",
       "      <td>9.900000e+03</td>\n",
       "      <td>8.850000e+03</td>\n",
       "    </tr>\n",
       "    <tr>\n",
       "      <td>25%</td>\n",
       "      <td>5.128750e+06</td>\n",
       "      <td>5.128750e+06</td>\n",
       "      <td>5.128750e+06</td>\n",
       "      <td>4.103000e+05</td>\n",
       "      <td>128218.750000</td>\n",
       "      <td>51287.500000</td>\n",
       "      <td>1.025750e+06</td>\n",
       "      <td>1.615556e+06</td>\n",
       "      <td>3.513194e+06</td>\n",
       "      <td>8.258332e+05</td>\n",
       "      <td>8.258332e+05</td>\n",
       "      <td>4.302917e+06</td>\n",
       "      <td>3.764398e+06</td>\n",
       "    </tr>\n",
       "    <tr>\n",
       "      <td>50%</td>\n",
       "      <td>1.024750e+07</td>\n",
       "      <td>1.024750e+07</td>\n",
       "      <td>1.024750e+07</td>\n",
       "      <td>8.198000e+05</td>\n",
       "      <td>256187.500000</td>\n",
       "      <td>102475.000000</td>\n",
       "      <td>2.049500e+06</td>\n",
       "      <td>3.227962e+06</td>\n",
       "      <td>7.019538e+06</td>\n",
       "      <td>1.667356e+06</td>\n",
       "      <td>1.667356e+06</td>\n",
       "      <td>8.580144e+06</td>\n",
       "      <td>7.504157e+06</td>\n",
       "    </tr>\n",
       "    <tr>\n",
       "      <td>75%</td>\n",
       "      <td>1.536625e+07</td>\n",
       "      <td>1.536625e+07</td>\n",
       "      <td>1.536625e+07</td>\n",
       "      <td>1.229300e+06</td>\n",
       "      <td>384156.250000</td>\n",
       "      <td>153662.500000</td>\n",
       "      <td>3.073250e+06</td>\n",
       "      <td>4.840369e+06</td>\n",
       "      <td>1.052588e+07</td>\n",
       "      <td>2.508878e+06</td>\n",
       "      <td>2.508878e+06</td>\n",
       "      <td>1.285737e+07</td>\n",
       "      <td>1.124392e+07</td>\n",
       "    </tr>\n",
       "    <tr>\n",
       "      <td>max</td>\n",
       "      <td>2.048500e+07</td>\n",
       "      <td>2.048500e+07</td>\n",
       "      <td>2.048500e+07</td>\n",
       "      <td>1.638800e+06</td>\n",
       "      <td>512125.000000</td>\n",
       "      <td>204850.000000</td>\n",
       "      <td>4.097000e+06</td>\n",
       "      <td>6.452775e+06</td>\n",
       "      <td>1.403222e+07</td>\n",
       "      <td>3.350401e+06</td>\n",
       "      <td>3.350401e+06</td>\n",
       "      <td>1.713460e+07</td>\n",
       "      <td>1.498367e+07</td>\n",
       "    </tr>\n",
       "  </tbody>\n",
       "</table>\n",
       "</div>"
      ],
      "text/plain": [
       "              Basic         Gross  Taxable Gross       Pension            NHF  \\\n",
       "count  2.047600e+04  2.047600e+04   2.047600e+04  2.047600e+04   20476.000000   \n",
       "mean   1.024750e+07  1.024750e+07   1.024750e+07  8.198000e+05  256187.500000   \n",
       "std    5.911056e+06  5.911056e+06   5.911056e+06  4.728845e+05  147776.409794   \n",
       "min    1.000000e+04  1.000000e+04   1.000000e+04  8.000000e+02     250.000000   \n",
       "25%    5.128750e+06  5.128750e+06   5.128750e+06  4.103000e+05  128218.750000   \n",
       "50%    1.024750e+07  1.024750e+07   1.024750e+07  8.198000e+05  256187.500000   \n",
       "75%    1.536625e+07  1.536625e+07   1.536625e+07  1.229300e+06  384156.250000   \n",
       "max    2.048500e+07  2.048500e+07   2.048500e+07  1.638800e+06  512125.000000   \n",
       "\n",
       "       Personal\\nrelief  Standard Relief  Total Relief   Net Taxable  \\\n",
       "count      20476.000000     2.047600e+04  2.047600e+04  2.047600e+04   \n",
       "mean      103145.589745     2.049500e+06  3.228633e+06  7.018867e+06   \n",
       "std        58061.262154     1.182211e+06  1.860885e+06  4.050173e+06   \n",
       "min        16666.660000     2.000000e+03  1.971666e+04 -9.716660e+03   \n",
       "25%        51287.500000     1.025750e+06  1.615556e+06  3.513194e+06   \n",
       "50%       102475.000000     2.049500e+06  3.227962e+06  7.019538e+06   \n",
       "75%       153662.500000     3.073250e+06  4.840369e+06  1.052588e+07   \n",
       "max       204850.000000     4.097000e+06  6.452775e+06  1.403222e+07   \n",
       "\n",
       "       Computed Tax      True Tax  NetPay adjusted for Tax Only  \\\n",
       "count  2.047600e+04  2.047600e+04                  2.047600e+04   \n",
       "mean   1.667311e+06  1.667312e+06                  8.580188e+06   \n",
       "std    9.718421e+05  9.718414e+05                  4.939215e+06   \n",
       "min   -6.801662e+02  1.000000e+02                  9.900000e+03   \n",
       "25%    8.258332e+05  8.258332e+05                  4.302917e+06   \n",
       "50%    1.667356e+06  1.667356e+06                  8.580144e+06   \n",
       "75%    2.508878e+06  2.508878e+06                  1.285737e+07   \n",
       "max    3.350401e+06  3.350401e+06                  1.713460e+07   \n",
       "\n",
       "       NetPay adjusted for Tax+Pension+NHF  \n",
       "count                         2.047600e+04  \n",
       "mean                          7.504201e+06  \n",
       "std                           4.318555e+06  \n",
       "min                           8.850000e+03  \n",
       "25%                           3.764398e+06  \n",
       "50%                           7.504157e+06  \n",
       "75%                           1.124392e+07  \n",
       "max                           1.498367e+07  "
      ]
     },
     "execution_count": 9,
     "metadata": {},
     "output_type": "execute_result"
    }
   ],
   "source": [
    "# Statistical Information about the data\n",
    "df.describe()"
   ]
  },
  {
   "cell_type": "code",
   "execution_count": 10,
   "metadata": {},
   "outputs": [
    {
     "data": {
      "text/html": [
       "<div>\n",
       "<style scoped>\n",
       "    .dataframe tbody tr th:only-of-type {\n",
       "        vertical-align: middle;\n",
       "    }\n",
       "\n",
       "    .dataframe tbody tr th {\n",
       "        vertical-align: top;\n",
       "    }\n",
       "\n",
       "    .dataframe thead th {\n",
       "        text-align: right;\n",
       "    }\n",
       "</style>\n",
       "<table border=\"1\" class=\"dataframe\">\n",
       "  <thead>\n",
       "    <tr style=\"text-align: right;\">\n",
       "      <th></th>\n",
       "      <th>Basic</th>\n",
       "      <th>Gross</th>\n",
       "      <th>Taxable Gross</th>\n",
       "      <th>Pension</th>\n",
       "      <th>NHF</th>\n",
       "      <th>Personal\\nrelief</th>\n",
       "      <th>Standard Relief</th>\n",
       "      <th>Total Relief</th>\n",
       "      <th>Net Taxable</th>\n",
       "      <th>Computed Tax</th>\n",
       "      <th>True Tax</th>\n",
       "      <th>NetPay adjusted for Tax Only</th>\n",
       "      <th>NetPay adjusted for Tax+Pension+NHF</th>\n",
       "    </tr>\n",
       "  </thead>\n",
       "  <tbody>\n",
       "    <tr>\n",
       "      <td>Basic</td>\n",
       "      <td>1.000000</td>\n",
       "      <td>1.000000</td>\n",
       "      <td>1.000000</td>\n",
       "      <td>1.000000</td>\n",
       "      <td>1.000000</td>\n",
       "      <td>0.999147</td>\n",
       "      <td>1.000000</td>\n",
       "      <td>0.999999</td>\n",
       "      <td>1.000000</td>\n",
       "      <td>1.000000</td>\n",
       "      <td>1.000000</td>\n",
       "      <td>1.000000</td>\n",
       "      <td>1.000000</td>\n",
       "    </tr>\n",
       "    <tr>\n",
       "      <td>Gross</td>\n",
       "      <td>1.000000</td>\n",
       "      <td>1.000000</td>\n",
       "      <td>1.000000</td>\n",
       "      <td>1.000000</td>\n",
       "      <td>1.000000</td>\n",
       "      <td>0.999147</td>\n",
       "      <td>1.000000</td>\n",
       "      <td>0.999999</td>\n",
       "      <td>1.000000</td>\n",
       "      <td>1.000000</td>\n",
       "      <td>1.000000</td>\n",
       "      <td>1.000000</td>\n",
       "      <td>1.000000</td>\n",
       "    </tr>\n",
       "    <tr>\n",
       "      <td>Taxable Gross</td>\n",
       "      <td>1.000000</td>\n",
       "      <td>1.000000</td>\n",
       "      <td>1.000000</td>\n",
       "      <td>1.000000</td>\n",
       "      <td>1.000000</td>\n",
       "      <td>0.999147</td>\n",
       "      <td>1.000000</td>\n",
       "      <td>0.999999</td>\n",
       "      <td>1.000000</td>\n",
       "      <td>1.000000</td>\n",
       "      <td>1.000000</td>\n",
       "      <td>1.000000</td>\n",
       "      <td>1.000000</td>\n",
       "    </tr>\n",
       "    <tr>\n",
       "      <td>Pension</td>\n",
       "      <td>1.000000</td>\n",
       "      <td>1.000000</td>\n",
       "      <td>1.000000</td>\n",
       "      <td>1.000000</td>\n",
       "      <td>1.000000</td>\n",
       "      <td>0.999147</td>\n",
       "      <td>1.000000</td>\n",
       "      <td>0.999999</td>\n",
       "      <td>1.000000</td>\n",
       "      <td>1.000000</td>\n",
       "      <td>1.000000</td>\n",
       "      <td>1.000000</td>\n",
       "      <td>1.000000</td>\n",
       "    </tr>\n",
       "    <tr>\n",
       "      <td>NHF</td>\n",
       "      <td>1.000000</td>\n",
       "      <td>1.000000</td>\n",
       "      <td>1.000000</td>\n",
       "      <td>1.000000</td>\n",
       "      <td>1.000000</td>\n",
       "      <td>0.999147</td>\n",
       "      <td>1.000000</td>\n",
       "      <td>0.999999</td>\n",
       "      <td>1.000000</td>\n",
       "      <td>1.000000</td>\n",
       "      <td>1.000000</td>\n",
       "      <td>1.000000</td>\n",
       "      <td>1.000000</td>\n",
       "    </tr>\n",
       "    <tr>\n",
       "      <td>Personal\\nrelief</td>\n",
       "      <td>0.999147</td>\n",
       "      <td>0.999147</td>\n",
       "      <td>0.999147</td>\n",
       "      <td>0.999147</td>\n",
       "      <td>0.999147</td>\n",
       "      <td>1.000000</td>\n",
       "      <td>0.999147</td>\n",
       "      <td>0.999199</td>\n",
       "      <td>0.999122</td>\n",
       "      <td>0.999148</td>\n",
       "      <td>0.999149</td>\n",
       "      <td>0.999146</td>\n",
       "      <td>0.999146</td>\n",
       "    </tr>\n",
       "    <tr>\n",
       "      <td>Standard Relief</td>\n",
       "      <td>1.000000</td>\n",
       "      <td>1.000000</td>\n",
       "      <td>1.000000</td>\n",
       "      <td>1.000000</td>\n",
       "      <td>1.000000</td>\n",
       "      <td>0.999147</td>\n",
       "      <td>1.000000</td>\n",
       "      <td>0.999999</td>\n",
       "      <td>1.000000</td>\n",
       "      <td>1.000000</td>\n",
       "      <td>1.000000</td>\n",
       "      <td>1.000000</td>\n",
       "      <td>1.000000</td>\n",
       "    </tr>\n",
       "    <tr>\n",
       "      <td>Total Relief</td>\n",
       "      <td>0.999999</td>\n",
       "      <td>0.999999</td>\n",
       "      <td>0.999999</td>\n",
       "      <td>0.999999</td>\n",
       "      <td>0.999999</td>\n",
       "      <td>0.999199</td>\n",
       "      <td>0.999999</td>\n",
       "      <td>1.000000</td>\n",
       "      <td>0.999998</td>\n",
       "      <td>0.999999</td>\n",
       "      <td>0.999999</td>\n",
       "      <td>0.999999</td>\n",
       "      <td>0.999999</td>\n",
       "    </tr>\n",
       "    <tr>\n",
       "      <td>Net Taxable</td>\n",
       "      <td>1.000000</td>\n",
       "      <td>1.000000</td>\n",
       "      <td>1.000000</td>\n",
       "      <td>1.000000</td>\n",
       "      <td>1.000000</td>\n",
       "      <td>0.999122</td>\n",
       "      <td>1.000000</td>\n",
       "      <td>0.999998</td>\n",
       "      <td>1.000000</td>\n",
       "      <td>0.999999</td>\n",
       "      <td>0.999999</td>\n",
       "      <td>1.000000</td>\n",
       "      <td>1.000000</td>\n",
       "    </tr>\n",
       "    <tr>\n",
       "      <td>Computed Tax</td>\n",
       "      <td>1.000000</td>\n",
       "      <td>1.000000</td>\n",
       "      <td>1.000000</td>\n",
       "      <td>1.000000</td>\n",
       "      <td>1.000000</td>\n",
       "      <td>0.999148</td>\n",
       "      <td>1.000000</td>\n",
       "      <td>0.999999</td>\n",
       "      <td>0.999999</td>\n",
       "      <td>1.000000</td>\n",
       "      <td>1.000000</td>\n",
       "      <td>0.999999</td>\n",
       "      <td>0.999999</td>\n",
       "    </tr>\n",
       "    <tr>\n",
       "      <td>True Tax</td>\n",
       "      <td>1.000000</td>\n",
       "      <td>1.000000</td>\n",
       "      <td>1.000000</td>\n",
       "      <td>1.000000</td>\n",
       "      <td>1.000000</td>\n",
       "      <td>0.999149</td>\n",
       "      <td>1.000000</td>\n",
       "      <td>0.999999</td>\n",
       "      <td>0.999999</td>\n",
       "      <td>1.000000</td>\n",
       "      <td>1.000000</td>\n",
       "      <td>0.999999</td>\n",
       "      <td>0.999999</td>\n",
       "    </tr>\n",
       "    <tr>\n",
       "      <td>NetPay adjusted for Tax Only</td>\n",
       "      <td>1.000000</td>\n",
       "      <td>1.000000</td>\n",
       "      <td>1.000000</td>\n",
       "      <td>1.000000</td>\n",
       "      <td>1.000000</td>\n",
       "      <td>0.999146</td>\n",
       "      <td>1.000000</td>\n",
       "      <td>0.999999</td>\n",
       "      <td>1.000000</td>\n",
       "      <td>0.999999</td>\n",
       "      <td>0.999999</td>\n",
       "      <td>1.000000</td>\n",
       "      <td>1.000000</td>\n",
       "    </tr>\n",
       "    <tr>\n",
       "      <td>NetPay adjusted for Tax+Pension+NHF</td>\n",
       "      <td>1.000000</td>\n",
       "      <td>1.000000</td>\n",
       "      <td>1.000000</td>\n",
       "      <td>1.000000</td>\n",
       "      <td>1.000000</td>\n",
       "      <td>0.999146</td>\n",
       "      <td>1.000000</td>\n",
       "      <td>0.999999</td>\n",
       "      <td>1.000000</td>\n",
       "      <td>0.999999</td>\n",
       "      <td>0.999999</td>\n",
       "      <td>1.000000</td>\n",
       "      <td>1.000000</td>\n",
       "    </tr>\n",
       "  </tbody>\n",
       "</table>\n",
       "</div>"
      ],
      "text/plain": [
       "                                        Basic     Gross  Taxable Gross  \\\n",
       "Basic                                1.000000  1.000000       1.000000   \n",
       "Gross                                1.000000  1.000000       1.000000   \n",
       "Taxable Gross                        1.000000  1.000000       1.000000   \n",
       "Pension                              1.000000  1.000000       1.000000   \n",
       "NHF                                  1.000000  1.000000       1.000000   \n",
       "Personal\\nrelief                     0.999147  0.999147       0.999147   \n",
       "Standard Relief                      1.000000  1.000000       1.000000   \n",
       "Total Relief                         0.999999  0.999999       0.999999   \n",
       "Net Taxable                          1.000000  1.000000       1.000000   \n",
       "Computed Tax                         1.000000  1.000000       1.000000   \n",
       "True Tax                             1.000000  1.000000       1.000000   \n",
       "NetPay adjusted for Tax Only         1.000000  1.000000       1.000000   \n",
       "NetPay adjusted for Tax+Pension+NHF  1.000000  1.000000       1.000000   \n",
       "\n",
       "                                      Pension       NHF  Personal\\nrelief  \\\n",
       "Basic                                1.000000  1.000000          0.999147   \n",
       "Gross                                1.000000  1.000000          0.999147   \n",
       "Taxable Gross                        1.000000  1.000000          0.999147   \n",
       "Pension                              1.000000  1.000000          0.999147   \n",
       "NHF                                  1.000000  1.000000          0.999147   \n",
       "Personal\\nrelief                     0.999147  0.999147          1.000000   \n",
       "Standard Relief                      1.000000  1.000000          0.999147   \n",
       "Total Relief                         0.999999  0.999999          0.999199   \n",
       "Net Taxable                          1.000000  1.000000          0.999122   \n",
       "Computed Tax                         1.000000  1.000000          0.999148   \n",
       "True Tax                             1.000000  1.000000          0.999149   \n",
       "NetPay adjusted for Tax Only         1.000000  1.000000          0.999146   \n",
       "NetPay adjusted for Tax+Pension+NHF  1.000000  1.000000          0.999146   \n",
       "\n",
       "                                     Standard Relief  Total Relief  \\\n",
       "Basic                                       1.000000      0.999999   \n",
       "Gross                                       1.000000      0.999999   \n",
       "Taxable Gross                               1.000000      0.999999   \n",
       "Pension                                     1.000000      0.999999   \n",
       "NHF                                         1.000000      0.999999   \n",
       "Personal\\nrelief                            0.999147      0.999199   \n",
       "Standard Relief                             1.000000      0.999999   \n",
       "Total Relief                                0.999999      1.000000   \n",
       "Net Taxable                                 1.000000      0.999998   \n",
       "Computed Tax                                1.000000      0.999999   \n",
       "True Tax                                    1.000000      0.999999   \n",
       "NetPay adjusted for Tax Only                1.000000      0.999999   \n",
       "NetPay adjusted for Tax+Pension+NHF         1.000000      0.999999   \n",
       "\n",
       "                                     Net Taxable  Computed Tax  True Tax  \\\n",
       "Basic                                   1.000000      1.000000  1.000000   \n",
       "Gross                                   1.000000      1.000000  1.000000   \n",
       "Taxable Gross                           1.000000      1.000000  1.000000   \n",
       "Pension                                 1.000000      1.000000  1.000000   \n",
       "NHF                                     1.000000      1.000000  1.000000   \n",
       "Personal\\nrelief                        0.999122      0.999148  0.999149   \n",
       "Standard Relief                         1.000000      1.000000  1.000000   \n",
       "Total Relief                            0.999998      0.999999  0.999999   \n",
       "Net Taxable                             1.000000      0.999999  0.999999   \n",
       "Computed Tax                            0.999999      1.000000  1.000000   \n",
       "True Tax                                0.999999      1.000000  1.000000   \n",
       "NetPay adjusted for Tax Only            1.000000      0.999999  0.999999   \n",
       "NetPay adjusted for Tax+Pension+NHF     1.000000      0.999999  0.999999   \n",
       "\n",
       "                                     NetPay adjusted for Tax Only  \\\n",
       "Basic                                                    1.000000   \n",
       "Gross                                                    1.000000   \n",
       "Taxable Gross                                            1.000000   \n",
       "Pension                                                  1.000000   \n",
       "NHF                                                      1.000000   \n",
       "Personal\\nrelief                                         0.999146   \n",
       "Standard Relief                                          1.000000   \n",
       "Total Relief                                             0.999999   \n",
       "Net Taxable                                              1.000000   \n",
       "Computed Tax                                             0.999999   \n",
       "True Tax                                                 0.999999   \n",
       "NetPay adjusted for Tax Only                             1.000000   \n",
       "NetPay adjusted for Tax+Pension+NHF                      1.000000   \n",
       "\n",
       "                                     NetPay adjusted for Tax+Pension+NHF  \n",
       "Basic                                                           1.000000  \n",
       "Gross                                                           1.000000  \n",
       "Taxable Gross                                                   1.000000  \n",
       "Pension                                                         1.000000  \n",
       "NHF                                                             1.000000  \n",
       "Personal\\nrelief                                                0.999146  \n",
       "Standard Relief                                                 1.000000  \n",
       "Total Relief                                                    0.999999  \n",
       "Net Taxable                                                     1.000000  \n",
       "Computed Tax                                                    0.999999  \n",
       "True Tax                                                        0.999999  \n",
       "NetPay adjusted for Tax Only                                    1.000000  \n",
       "NetPay adjusted for Tax+Pension+NHF                             1.000000  "
      ]
     },
     "execution_count": 10,
     "metadata": {},
     "output_type": "execute_result"
    }
   ],
   "source": [
    "#Correlation in the data\n",
    "df.corr()"
   ]
  },
  {
   "cell_type": "code",
   "execution_count": 11,
   "metadata": {
    "scrolled": true
   },
   "outputs": [
    {
     "data": {
      "image/png": "[encoded data removed]",
      "text/plain": [
       "<Figure size 432x288 with 2 Axes>"
      ]
     },
     "metadata": {
      "needs_background": "light"
     },
     "output_type": "display_data"
    }
   ],
   "source": [
    "sns.heatmap(df.corr(), annot=True);"
   ]
  },
  {
   "cell_type": "markdown",
   "metadata": {},
   "source": [
    "#### Building a Linear Regression Machine Learning Model on this Dataset"
   ]
  },
  {
   "cell_type": "code",
   "execution_count": 12,
   "metadata": {},
   "outputs": [
    {
     "data": {
      "image/png": "[encoded data removed]",
      "text/plain": [
       "<Figure size 432x288 with 1 Axes>"
      ]
     },
     "metadata": {
      "needs_background": "light"
     },
     "output_type": "display_data"
    }
   ],
   "source": [
    "# Looking for outliers\n",
    "sns.boxplot(df['Gross']);"
   ]
  },
  {
   "cell_type": "code",
   "execution_count": 13,
   "metadata": {},
   "outputs": [
    {
     "data": {
      "image/png": "[encoded data removed]",
      "text/plain": [
       "<Figure size 432x288 with 1 Axes>"
      ]
     },
     "metadata": {
      "needs_background": "light"
     },
     "output_type": "display_data"
    }
   ],
   "source": [
    "sns.boxplot(df['Basic']);"
   ]
  },
  {
   "cell_type": "code",
   "execution_count": 14,
   "metadata": {},
   "outputs": [
    {
     "data": {
      "image/png": "[encoded data removed]",
      "text/plain": [
       "<Figure size 432x288 with 1 Axes>"
      ]
     },
     "metadata": {
      "needs_background": "light"
     },
     "output_type": "display_data"
    }
   ],
   "source": [
    "sns.boxplot(df['Total Relief']);"
   ]
  },
  {
   "cell_type": "markdown",
   "metadata": {},
   "source": [
    "There are no outliers in the data"
   ]
  },
  {
   "cell_type": "code",
   "execution_count": 15,
   "metadata": {},
   "outputs": [
    {
     "data": {
      "text/html": [
       "<div>\n",
       "<style scoped>\n",
       "    .dataframe tbody tr th:only-of-type {\n",
       "        vertical-align: middle;\n",
       "    }\n",
       "\n",
       "    .dataframe tbody tr th {\n",
       "        vertical-align: top;\n",
       "    }\n",
       "\n",
       "    .dataframe thead th {\n",
       "        text-align: right;\n",
       "    }\n",
       "</style>\n",
       "<table border=\"1\" class=\"dataframe\">\n",
       "  <thead>\n",
       "    <tr style=\"text-align: right;\">\n",
       "      <th></th>\n",
       "      <th>Basic</th>\n",
       "      <th>Gross</th>\n",
       "      <th>Taxable Gross</th>\n",
       "      <th>Pension</th>\n",
       "      <th>NHF</th>\n",
       "      <th>Personal\\nrelief</th>\n",
       "      <th>Standard Relief</th>\n",
       "      <th>Total Relief</th>\n",
       "      <th>Net Taxable</th>\n",
       "      <th>Computed Tax</th>\n",
       "      <th>True Tax</th>\n",
       "      <th>NetPay adjusted for Tax Only</th>\n",
       "      <th>NetPay adjusted for Tax+Pension+NHF</th>\n",
       "    </tr>\n",
       "  </thead>\n",
       "  <tbody>\n",
       "    <tr>\n",
       "      <td>0</td>\n",
       "      <td>10000</td>\n",
       "      <td>10000</td>\n",
       "      <td>10000</td>\n",
       "      <td>800</td>\n",
       "      <td>250</td>\n",
       "      <td>16666.66</td>\n",
       "      <td>2000</td>\n",
       "      <td>19716.66</td>\n",
       "      <td>-9716.66</td>\n",
       "      <td>-680.1662</td>\n",
       "      <td>100.0</td>\n",
       "      <td>9900.0</td>\n",
       "      <td>8850.0</td>\n",
       "    </tr>\n",
       "    <tr>\n",
       "      <td>1</td>\n",
       "      <td>11000</td>\n",
       "      <td>11000</td>\n",
       "      <td>11000</td>\n",
       "      <td>880</td>\n",
       "      <td>275</td>\n",
       "      <td>16666.66</td>\n",
       "      <td>2200</td>\n",
       "      <td>20021.66</td>\n",
       "      <td>-9021.66</td>\n",
       "      <td>-631.5162</td>\n",
       "      <td>110.0</td>\n",
       "      <td>10890.0</td>\n",
       "      <td>9735.0</td>\n",
       "    </tr>\n",
       "    <tr>\n",
       "      <td>2</td>\n",
       "      <td>12000</td>\n",
       "      <td>12000</td>\n",
       "      <td>12000</td>\n",
       "      <td>960</td>\n",
       "      <td>300</td>\n",
       "      <td>16666.66</td>\n",
       "      <td>2400</td>\n",
       "      <td>20326.66</td>\n",
       "      <td>-8326.66</td>\n",
       "      <td>-582.8662</td>\n",
       "      <td>120.0</td>\n",
       "      <td>11880.0</td>\n",
       "      <td>10620.0</td>\n",
       "    </tr>\n",
       "    <tr>\n",
       "      <td>3</td>\n",
       "      <td>13000</td>\n",
       "      <td>13000</td>\n",
       "      <td>13000</td>\n",
       "      <td>1040</td>\n",
       "      <td>325</td>\n",
       "      <td>16666.66</td>\n",
       "      <td>2600</td>\n",
       "      <td>20631.66</td>\n",
       "      <td>-7631.66</td>\n",
       "      <td>-534.2162</td>\n",
       "      <td>130.0</td>\n",
       "      <td>12870.0</td>\n",
       "      <td>11505.0</td>\n",
       "    </tr>\n",
       "    <tr>\n",
       "      <td>4</td>\n",
       "      <td>14000</td>\n",
       "      <td>14000</td>\n",
       "      <td>14000</td>\n",
       "      <td>1120</td>\n",
       "      <td>350</td>\n",
       "      <td>16666.66</td>\n",
       "      <td>2800</td>\n",
       "      <td>20936.66</td>\n",
       "      <td>-6936.66</td>\n",
       "      <td>-485.5662</td>\n",
       "      <td>140.0</td>\n",
       "      <td>13860.0</td>\n",
       "      <td>12390.0</td>\n",
       "    </tr>\n",
       "  </tbody>\n",
       "</table>\n",
       "</div>"
      ],
      "text/plain": [
       "   Basic  Gross  Taxable Gross  Pension  NHF  Personal\\nrelief  \\\n",
       "0  10000  10000          10000      800  250          16666.66   \n",
       "1  11000  11000          11000      880  275          16666.66   \n",
       "2  12000  12000          12000      960  300          16666.66   \n",
       "3  13000  13000          13000     1040  325          16666.66   \n",
       "4  14000  14000          14000     1120  350          16666.66   \n",
       "\n",
       "   Standard Relief  Total Relief  Net Taxable  Computed Tax  True Tax  \\\n",
       "0             2000      19716.66     -9716.66     -680.1662     100.0   \n",
       "1             2200      20021.66     -9021.66     -631.5162     110.0   \n",
       "2             2400      20326.66     -8326.66     -582.8662     120.0   \n",
       "3             2600      20631.66     -7631.66     -534.2162     130.0   \n",
       "4             2800      20936.66     -6936.66     -485.5662     140.0   \n",
       "\n",
       "   NetPay adjusted for Tax Only  NetPay adjusted for Tax+Pension+NHF  \n",
       "0                        9900.0                               8850.0  \n",
       "1                       10890.0                               9735.0  \n",
       "2                       11880.0                              10620.0  \n",
       "3                       12870.0                              11505.0  \n",
       "4                       13860.0                              12390.0  "
      ]
     },
     "execution_count": 15,
     "metadata": {},
     "output_type": "execute_result"
    }
   ],
   "source": [
    "#Head view again\n",
    "df.head()"
   ]
  },
  {
   "cell_type": "code",
   "execution_count": 16,
   "metadata": {},
   "outputs": [],
   "source": [
    "# We will be dropping NetPay adjusted for Tax only to reduce the level of biases in our training\n",
    "df.drop(['NetPay adjusted for Tax Only', 'True Tax'], axis=1, inplace=True)"
   ]
  },
  {
   "cell_type": "code",
   "execution_count": 17,
   "metadata": {},
   "outputs": [],
   "source": [
    "# Let's drop the row that we cannot train\n",
    "df.drop(df.index[0:30],axis=0, inplace=True)"
   ]
  },
  {
   "cell_type": "code",
   "execution_count": 18,
   "metadata": {},
   "outputs": [
    {
     "data": {
      "text/html": [
       "<div>\n",
       "<style scoped>\n",
       "    .dataframe tbody tr th:only-of-type {\n",
       "        vertical-align: middle;\n",
       "    }\n",
       "\n",
       "    .dataframe tbody tr th {\n",
       "        vertical-align: top;\n",
       "    }\n",
       "\n",
       "    .dataframe thead th {\n",
       "        text-align: right;\n",
       "    }\n",
       "</style>\n",
       "<table border=\"1\" class=\"dataframe\">\n",
       "  <thead>\n",
       "    <tr style=\"text-align: right;\">\n",
       "      <th></th>\n",
       "      <th>Basic</th>\n",
       "      <th>Gross</th>\n",
       "      <th>Taxable Gross</th>\n",
       "      <th>Pension</th>\n",
       "      <th>NHF</th>\n",
       "      <th>Personal\\nrelief</th>\n",
       "      <th>Standard Relief</th>\n",
       "      <th>Total Relief</th>\n",
       "      <th>Net Taxable</th>\n",
       "      <th>Computed Tax</th>\n",
       "      <th>NetPay adjusted for Tax+Pension+NHF</th>\n",
       "    </tr>\n",
       "  </thead>\n",
       "  <tbody>\n",
       "    <tr>\n",
       "      <td>30</td>\n",
       "      <td>40000</td>\n",
       "      <td>40000</td>\n",
       "      <td>40000</td>\n",
       "      <td>3200</td>\n",
       "      <td>1000</td>\n",
       "      <td>16666.66</td>\n",
       "      <td>8000</td>\n",
       "      <td>28866.66</td>\n",
       "      <td>11133.34</td>\n",
       "      <td>7.793338e+02</td>\n",
       "      <td>3.502067e+04</td>\n",
       "    </tr>\n",
       "    <tr>\n",
       "      <td>31</td>\n",
       "      <td>41000</td>\n",
       "      <td>41000</td>\n",
       "      <td>41000</td>\n",
       "      <td>3280</td>\n",
       "      <td>1025</td>\n",
       "      <td>16666.66</td>\n",
       "      <td>8200</td>\n",
       "      <td>29171.66</td>\n",
       "      <td>11828.34</td>\n",
       "      <td>8.279838e+02</td>\n",
       "      <td>3.586702e+04</td>\n",
       "    </tr>\n",
       "    <tr>\n",
       "      <td>32</td>\n",
       "      <td>42000</td>\n",
       "      <td>42000</td>\n",
       "      <td>42000</td>\n",
       "      <td>3360</td>\n",
       "      <td>1050</td>\n",
       "      <td>16666.66</td>\n",
       "      <td>8400</td>\n",
       "      <td>29476.66</td>\n",
       "      <td>12523.34</td>\n",
       "      <td>8.766338e+02</td>\n",
       "      <td>3.671337e+04</td>\n",
       "    </tr>\n",
       "    <tr>\n",
       "      <td>33</td>\n",
       "      <td>43000</td>\n",
       "      <td>43000</td>\n",
       "      <td>43000</td>\n",
       "      <td>3440</td>\n",
       "      <td>1075</td>\n",
       "      <td>16666.66</td>\n",
       "      <td>8600</td>\n",
       "      <td>29781.66</td>\n",
       "      <td>13218.34</td>\n",
       "      <td>9.252838e+02</td>\n",
       "      <td>3.755972e+04</td>\n",
       "    </tr>\n",
       "    <tr>\n",
       "      <td>34</td>\n",
       "      <td>44000</td>\n",
       "      <td>44000</td>\n",
       "      <td>44000</td>\n",
       "      <td>3520</td>\n",
       "      <td>1100</td>\n",
       "      <td>16666.66</td>\n",
       "      <td>8800</td>\n",
       "      <td>30086.66</td>\n",
       "      <td>13913.34</td>\n",
       "      <td>9.739338e+02</td>\n",
       "      <td>3.840607e+04</td>\n",
       "    </tr>\n",
       "    <tr>\n",
       "      <td>...</td>\n",
       "      <td>...</td>\n",
       "      <td>...</td>\n",
       "      <td>...</td>\n",
       "      <td>...</td>\n",
       "      <td>...</td>\n",
       "      <td>...</td>\n",
       "      <td>...</td>\n",
       "      <td>...</td>\n",
       "      <td>...</td>\n",
       "      <td>...</td>\n",
       "      <td>...</td>\n",
       "    </tr>\n",
       "    <tr>\n",
       "      <td>20471</td>\n",
       "      <td>20481000</td>\n",
       "      <td>20481000</td>\n",
       "      <td>20481000</td>\n",
       "      <td>1638480</td>\n",
       "      <td>512025</td>\n",
       "      <td>204810.00</td>\n",
       "      <td>4096200</td>\n",
       "      <td>6451515.00</td>\n",
       "      <td>14029485.00</td>\n",
       "      <td>3.349743e+06</td>\n",
       "      <td>1.498075e+07</td>\n",
       "    </tr>\n",
       "    <tr>\n",
       "      <td>20472</td>\n",
       "      <td>20482000</td>\n",
       "      <td>20482000</td>\n",
       "      <td>20482000</td>\n",
       "      <td>1638560</td>\n",
       "      <td>512050</td>\n",
       "      <td>204820.00</td>\n",
       "      <td>4096400</td>\n",
       "      <td>6451830.00</td>\n",
       "      <td>14030170.00</td>\n",
       "      <td>3.349907e+06</td>\n",
       "      <td>1.498148e+07</td>\n",
       "    </tr>\n",
       "    <tr>\n",
       "      <td>20473</td>\n",
       "      <td>20483000</td>\n",
       "      <td>20483000</td>\n",
       "      <td>20483000</td>\n",
       "      <td>1638640</td>\n",
       "      <td>512075</td>\n",
       "      <td>204830.00</td>\n",
       "      <td>4096600</td>\n",
       "      <td>6452145.00</td>\n",
       "      <td>14030855.00</td>\n",
       "      <td>3.350072e+06</td>\n",
       "      <td>1.498221e+07</td>\n",
       "    </tr>\n",
       "    <tr>\n",
       "      <td>20474</td>\n",
       "      <td>20484000</td>\n",
       "      <td>20484000</td>\n",
       "      <td>20484000</td>\n",
       "      <td>1638720</td>\n",
       "      <td>512100</td>\n",
       "      <td>204840.00</td>\n",
       "      <td>4096800</td>\n",
       "      <td>6452460.00</td>\n",
       "      <td>14031540.00</td>\n",
       "      <td>3.350236e+06</td>\n",
       "      <td>1.498294e+07</td>\n",
       "    </tr>\n",
       "    <tr>\n",
       "      <td>20475</td>\n",
       "      <td>20485000</td>\n",
       "      <td>20485000</td>\n",
       "      <td>20485000</td>\n",
       "      <td>1638800</td>\n",
       "      <td>512125</td>\n",
       "      <td>204850.00</td>\n",
       "      <td>4097000</td>\n",
       "      <td>6452775.00</td>\n",
       "      <td>14032225.00</td>\n",
       "      <td>3.350401e+06</td>\n",
       "      <td>1.498367e+07</td>\n",
       "    </tr>\n",
       "  </tbody>\n",
       "</table>\n",
       "<p>20446 rows × 11 columns</p>\n",
       "</div>"
      ],
      "text/plain": [
       "          Basic     Gross  Taxable Gross  Pension     NHF  Personal\\nrelief  \\\n",
       "30        40000     40000          40000     3200    1000          16666.66   \n",
       "31        41000     41000          41000     3280    1025          16666.66   \n",
       "32        42000     42000          42000     3360    1050          16666.66   \n",
       "33        43000     43000          43000     3440    1075          16666.66   \n",
       "34        44000     44000          44000     3520    1100          16666.66   \n",
       "...         ...       ...            ...      ...     ...               ...   \n",
       "20471  20481000  20481000       20481000  1638480  512025         204810.00   \n",
       "20472  20482000  20482000       20482000  1638560  512050         204820.00   \n",
       "20473  20483000  20483000       20483000  1638640  512075         204830.00   \n",
       "20474  20484000  20484000       20484000  1638720  512100         204840.00   \n",
       "20475  20485000  20485000       20485000  1638800  512125         204850.00   \n",
       "\n",
       "       Standard Relief  Total Relief  Net Taxable  Computed Tax  \\\n",
       "30                8000      28866.66     11133.34  7.793338e+02   \n",
       "31                8200      29171.66     11828.34  8.279838e+02   \n",
       "32                8400      29476.66     12523.34  8.766338e+02   \n",
       "33                8600      29781.66     13218.34  9.252838e+02   \n",
       "34                8800      30086.66     13913.34  9.739338e+02   \n",
       "...                ...           ...          ...           ...   \n",
       "20471          4096200    6451515.00  14029485.00  3.349743e+06   \n",
       "20472          4096400    6451830.00  14030170.00  3.349907e+06   \n",
       "20473          4096600    6452145.00  14030855.00  3.350072e+06   \n",
       "20474          4096800    6452460.00  14031540.00  3.350236e+06   \n",
       "20475          4097000    6452775.00  14032225.00  3.350401e+06   \n",
       "\n",
       "       NetPay adjusted for Tax+Pension+NHF  \n",
       "30                            3.502067e+04  \n",
       "31                            3.586702e+04  \n",
       "32                            3.671337e+04  \n",
       "33                            3.755972e+04  \n",
       "34                            3.840607e+04  \n",
       "...                                    ...  \n",
       "20471                         1.498075e+07  \n",
       "20472                         1.498148e+07  \n",
       "20473                         1.498221e+07  \n",
       "20474                         1.498294e+07  \n",
       "20475                         1.498367e+07  \n",
       "\n",
       "[20446 rows x 11 columns]"
      ]
     },
     "execution_count": 18,
     "metadata": {},
     "output_type": "execute_result"
    }
   ],
   "source": [
    "df"
   ]
  },
  {
   "cell_type": "code",
   "execution_count": 19,
   "metadata": {},
   "outputs": [],
   "source": [
    "# Setting the training variables\n",
    "X = df.iloc[:,:-1].values\n",
    "y = df.iloc[:,-1].values"
   ]
  },
  {
   "cell_type": "code",
   "execution_count": 20,
   "metadata": {},
   "outputs": [],
   "source": [
    "# Importing the libraries we will; be using for our training\n",
    "from sklearn.linear_model import LinearRegression\n",
    "from sklearn.model_selection import train_test_split"
   ]
  },
  {
   "cell_type": "code",
   "execution_count": 21,
   "metadata": {},
   "outputs": [],
   "source": [
    "XTrain, XTest, yTrain, yTest = train_test_split(X, y, test_size=0.25, random_state=5)"
   ]
  },
  {
   "cell_type": "code",
   "execution_count": 22,
   "metadata": {},
   "outputs": [],
   "source": [
    "model = LinearRegression()"
   ]
  },
  {
   "cell_type": "code",
   "execution_count": 23,
   "metadata": {},
   "outputs": [
    {
     "data": {
      "text/plain": [
       "LinearRegression(copy_X=True, fit_intercept=True, n_jobs=None, normalize=False)"
      ]
     },
     "execution_count": 23,
     "metadata": {},
     "output_type": "execute_result"
    }
   ],
   "source": [
    "model.fit(XTrain, yTrain)"
   ]
  },
  {
   "cell_type": "code",
   "execution_count": 24,
   "metadata": {},
   "outputs": [],
   "source": [
    "predictions = model.predict(XTest)"
   ]
  },
  {
   "cell_type": "code",
   "execution_count": 25,
   "metadata": {},
   "outputs": [
    {
     "name": "stdout",
     "output_type": "stream",
     "text": [
      "Coefficients: \n",
      " [ 0.68958801 -0.58158233 -0.58157408  0.16422315  0.07366261 -1.92032586\n",
      "  0.58930091  2.57035527  0.65002941 -1.        ]\n"
     ]
    }
   ],
   "source": [
    "#Co-efficients of our features\n",
    "print('Coefficients: \\n', model.coef_) "
   ]
  },
  {
   "cell_type": "code",
   "execution_count": 26,
   "metadata": {},
   "outputs": [
    {
     "data": {
      "text/plain": [
       "100.0"
      ]
     },
     "execution_count": 26,
     "metadata": {},
     "output_type": "execute_result"
    }
   ],
   "source": [
    "# The accuracy of our model\n",
    "accuracy = model.score(XTest,yTest)*100\n",
    "accuracy"
   ]
  },
  {
   "cell_type": "code",
   "execution_count": 27,
   "metadata": {},
   "outputs": [
    {
     "name": "stdout",
     "output_type": "stream",
     "text": [
      "Variance score: 1.0\n"
     ]
    }
   ],
   "source": [
    "# geting the accuracy score using variance\n",
    "print('Variance score: {}'.format(model.score(XTest, yTest)))"
   ]
  },
  {
   "cell_type": "markdown",
   "metadata": {},
   "source": [
    "#### Errors In training and testing"
   ]
  },
  {
   "cell_type": "code",
   "execution_count": 28,
   "metadata": {},
   "outputs": [],
   "source": [
    "plt.style.use('fivethirtyeight') "
   ]
  },
  {
   "cell_type": "code",
   "execution_count": 29,
   "metadata": {},
   "outputs": [
    {
     "data": {
      "image/png": "[encoded data removed]",
      "text/plain": [
       "<Figure size 432x288 with 1 Axes>"
      ]
     },
     "metadata": {},
     "output_type": "display_data"
    }
   ],
   "source": [
    "# Residual error in training\n",
    "plt.scatter(model.predict(XTrain), model.predict(XTrain) - yTrain, \n",
    "            color = \"red\", s = 10, label = 'df') \n",
    "plt.show()\n",
    "# There was no error in training"
   ]
  },
  {
   "cell_type": "code",
   "execution_count": 30,
   "metadata": {
    "scrolled": true
   },
   "outputs": [
    {
     "data": {
      "image/png": "[encoded data removed]",
      "text/plain": [
       "<Figure size 432x288 with 1 Axes>"
      ]
     },
     "metadata": {},
     "output_type": "display_data"
    }
   ],
   "source": [
    "# Residual error in testing\n",
    "plt.scatter(model.predict(XTest), model.predict(XTest) - yTest, \n",
    "            color = \"blue\", s = 10, label = 'df')\n",
    "plt.show()\n",
    "# There was no error in testing"
   ]
  },
  {
   "cell_type": "code",
   "execution_count": 31,
   "metadata": {},
   "outputs": [],
   "source": [
    "from sklearn.metrics import mean_squared_error"
   ]
  },
  {
   "cell_type": "code",
   "execution_count": 32,
   "metadata": {},
   "outputs": [],
   "source": [
    "yPred = model.predict(XTest)"
   ]
  },
  {
   "cell_type": "code",
   "execution_count": 33,
   "metadata": {},
   "outputs": [],
   "source": [
    "mse = mean_squared_error(yTest,yPred)"
   ]
  },
  {
   "cell_type": "code",
   "execution_count": 34,
   "metadata": {},
   "outputs": [
    {
     "data": {
      "text/plain": [
       "1.1506864986222188e-16"
      ]
     },
     "execution_count": 34,
     "metadata": {},
     "output_type": "execute_result"
    }
   ],
   "source": [
    "mse"
   ]
  },
  {
   "cell_type": "code",
   "execution_count": 35,
   "metadata": {},
   "outputs": [
    {
     "data": {
      "text/plain": [
       "1.0727005633550394e-08"
      ]
     },
     "execution_count": 35,
     "metadata": {},
     "output_type": "execute_result"
    }
   ],
   "source": [
    "np.sqrt(mse)"
   ]
  },
  {
   "cell_type": "code",
   "execution_count": 36,
   "metadata": {},
   "outputs": [
    {
     "data": {
      "text/plain": [
       "array([35020.66620002])"
      ]
     },
     "execution_count": 36,
     "metadata": {},
     "output_type": "execute_result"
    }
   ],
   "source": [
    "model.predict(X[:1,:])"
   ]
  },
  {
   "cell_type": "markdown",
   "metadata": {},
   "source": [
    "#### Random forest "
   ]
  },
  {
   "cell_type": "code",
   "execution_count": 37,
   "metadata": {},
   "outputs": [],
   "source": [
    "# Import random forest regressor\n",
    "from sklearn.ensemble import RandomForestRegressor"
   ]
  },
  {
   "cell_type": "code",
   "execution_count": 38,
   "metadata": {},
   "outputs": [],
   "source": [
    "sec_model = RandomForestRegressor(n_estimators=100, random_state=0)"
   ]
  },
  {
   "cell_type": "code",
   "execution_count": 39,
   "metadata": {},
   "outputs": [
    {
     "data": {
      "text/plain": [
       "RandomForestRegressor(bootstrap=True, criterion='mse', max_depth=None,\n",
       "                      max_features='auto', max_leaf_nodes=None,\n",
       "                      min_impurity_decrease=0.0, min_impurity_split=None,\n",
       "                      min_samples_leaf=1, min_samples_split=2,\n",
       "                      min_weight_fraction_leaf=0.0, n_estimators=100,\n",
       "                      n_jobs=None, oob_score=False, random_state=0, verbose=0,\n",
       "                      warm_start=False)"
      ]
     },
     "execution_count": 39,
     "metadata": {},
     "output_type": "execute_result"
    }
   ],
   "source": [
    "sec_model.fit(XTrain, yTrain)"
   ]
  },
  {
   "cell_type": "code",
   "execution_count": 40,
   "metadata": {},
   "outputs": [
    {
     "name": "stdout",
     "output_type": "stream",
     "text": [
      "RandomForestRegressor(bootstrap=True, criterion='mse', max_depth=None,\n",
      "                      max_features='auto', max_leaf_nodes=None,\n",
      "                      min_impurity_decrease=0.0, min_impurity_split=None,\n",
      "                      min_samples_leaf=1, min_samples_split=2,\n",
      "                      min_weight_fraction_leaf=0.0, n_estimators=100,\n",
      "                      n_jobs=None, oob_score=False, random_state=0, verbose=0,\n",
      "                      warm_start=False)\n"
     ]
    }
   ],
   "source": [
    "print(sec_model)"
   ]
  },
  {
   "cell_type": "code",
   "execution_count": 41,
   "metadata": {},
   "outputs": [
    {
     "data": {
      "text/plain": [
       "0.999999986037963"
      ]
     },
     "execution_count": 41,
     "metadata": {},
     "output_type": "execute_result"
    }
   ],
   "source": [
    "sec_model.score(XTest, yTest)"
   ]
  },
  {
   "cell_type": "markdown",
   "metadata": {},
   "source": [
    "#### Root Mean Squared Error of Random forest"
   ]
  },
  {
   "cell_type": "code",
   "execution_count": 42,
   "metadata": {},
   "outputs": [],
   "source": [
    "R_Pred = sec_model.predict(XTest)"
   ]
  },
  {
   "cell_type": "code",
   "execution_count": 43,
   "metadata": {},
   "outputs": [],
   "source": [
    "mean_sq_error = mean_squared_error(yTest,yPred)"
   ]
  },
  {
   "cell_type": "code",
   "execution_count": 44,
   "metadata": {},
   "outputs": [
    {
     "data": {
      "text/plain": [
       "1.1506864986222188e-16"
      ]
     },
     "execution_count": 44,
     "metadata": {},
     "output_type": "execute_result"
    }
   ],
   "source": [
    "mean_sq_error"
   ]
  },
  {
   "cell_type": "code",
   "execution_count": 45,
   "metadata": {},
   "outputs": [
    {
     "data": {
      "text/plain": [
       "1.0727005633550394e-08"
      ]
     },
     "execution_count": 45,
     "metadata": {},
     "output_type": "execute_result"
    }
   ],
   "source": [
    "np.sqrt(mean_sq_error)"
   ]
  },
  {
   "cell_type": "markdown",
   "metadata": {},
   "source": [
    "#### Testing"
   ]
  },
  {
   "cell_type": "code",
   "execution_count": 46,
   "metadata": {},
   "outputs": [
    {
     "data": {
      "text/plain": [
       "array([35477.6952])"
      ]
     },
     "execution_count": 46,
     "metadata": {},
     "output_type": "execute_result"
    }
   ],
   "source": [
    "sec_model.predict(X[:1,:])"
   ]
  },
  {
   "cell_type": "code",
   "execution_count": 47,
   "metadata": {},
   "outputs": [
    {
     "data": {
      "text/plain": [
       "array([[40000.    , 40000.    , 40000.    ,  3200.    ,  1000.    ,\n",
       "        16666.66  ,  8000.    , 28866.66  , 11133.34  ,   779.3338]])"
      ]
     },
     "execution_count": 47,
     "metadata": {},
     "output_type": "execute_result"
    }
   ],
   "source": [
    "X[:1,:]"
   ]
  },
  {
   "cell_type": "markdown",
   "metadata": {},
   "source": [
    "#### Gradient Boost"
   ]
  },
  {
   "cell_type": "code",
   "execution_count": 48,
   "metadata": {},
   "outputs": [],
   "source": [
    "from sklearn.ensemble import GradientBoostingRegressor"
   ]
  },
  {
   "cell_type": "code",
   "execution_count": 49,
   "metadata": {},
   "outputs": [],
   "source": [
    "third_model = GradientBoostingRegressor(random_state=0)"
   ]
  },
  {
   "cell_type": "code",
   "execution_count": 50,
   "metadata": {},
   "outputs": [
    {
     "data": {
      "text/plain": [
       "GradientBoostingRegressor(alpha=0.9, criterion='friedman_mse', init=None,\n",
       "                          learning_rate=0.1, loss='ls', max_depth=3,\n",
       "                          max_features=None, max_leaf_nodes=None,\n",
       "                          min_impurity_decrease=0.0, min_impurity_split=None,\n",
       "                          min_samples_leaf=1, min_samples_split=2,\n",
       "                          min_weight_fraction_leaf=0.0, n_estimators=100,\n",
       "                          n_iter_no_change=None, presort='auto', random_state=0,\n",
       "                          subsample=1.0, tol=0.0001, validation_fraction=0.1,\n",
       "                          verbose=0, warm_start=False)"
      ]
     },
     "execution_count": 50,
     "metadata": {},
     "output_type": "execute_result"
    }
   ],
   "source": [
    "third_model.fit(XTrain, yTrain)"
   ]
  },
  {
   "cell_type": "code",
   "execution_count": 51,
   "metadata": {},
   "outputs": [
    {
     "data": {
      "text/plain": [
       "array([14420183.65386125])"
      ]
     },
     "execution_count": 51,
     "metadata": {},
     "output_type": "execute_result"
    }
   ],
   "source": [
    "third_model.predict(XTest[1:2])"
   ]
  },
  {
   "cell_type": "code",
   "execution_count": 52,
   "metadata": {},
   "outputs": [
    {
     "data": {
      "text/plain": [
       "0.9999536619813308"
      ]
     },
     "execution_count": 52,
     "metadata": {},
     "output_type": "execute_result"
    }
   ],
   "source": [
    "third_model.score(XTest, yTest)"
   ]
  },
  {
   "cell_type": "markdown",
   "metadata": {},
   "source": [
    "#### Root Mean Squared Error of the Gradient Boost"
   ]
  },
  {
   "cell_type": "code",
   "execution_count": 53,
   "metadata": {},
   "outputs": [],
   "source": [
    "N_Pred = third_model.predict(XTest)"
   ]
  },
  {
   "cell_type": "code",
   "execution_count": 54,
   "metadata": {},
   "outputs": [],
   "source": [
    "mean_error = mean_squared_error(yTest,N_Pred)"
   ]
  },
  {
   "cell_type": "code",
   "execution_count": 55,
   "metadata": {},
   "outputs": [
    {
     "data": {
      "text/plain": [
       "855407371.2074734"
      ]
     },
     "execution_count": 55,
     "metadata": {},
     "output_type": "execute_result"
    }
   ],
   "source": [
    "mean_error"
   ]
  },
  {
   "cell_type": "code",
   "execution_count": 56,
   "metadata": {},
   "outputs": [
    {
     "data": {
      "text/plain": [
       "29247.348105554345"
      ]
     },
     "execution_count": 56,
     "metadata": {},
     "output_type": "execute_result"
    }
   ],
   "source": [
    "np.sqrt(mean_error)"
   ]
  },
  {
   "cell_type": "code",
   "execution_count": 57,
   "metadata": {},
   "outputs": [
    {
     "data": {
      "text/plain": [
       "array([57025.65387734])"
      ]
     },
     "execution_count": 57,
     "metadata": {},
     "output_type": "execute_result"
    }
   ],
   "source": [
    "third_model.predict(X[:1,:])"
   ]
  },
  {
   "cell_type": "markdown",
   "metadata": {},
   "source": [
    "#### Random forest's feature importance"
   ]
  },
  {
   "cell_type": "code",
   "execution_count": 58,
   "metadata": {},
   "outputs": [],
   "source": [
    "importance = sec_model.feature_importances_"
   ]
  },
  {
   "cell_type": "code",
   "execution_count": 60,
   "metadata": {},
   "outputs": [
    {
     "name": "stdout",
     "output_type": "stream",
     "text": [
      "Feature: 0, Score: 0.06998\n",
      "Feature: 1, Score: 0.10757\n",
      "Feature: 2, Score: 0.13339\n",
      "Feature: 3, Score: 0.07566\n",
      "Feature: 4, Score: 0.09161\n",
      "Feature: 5, Score: 0.11518\n",
      "Feature: 6, Score: 0.11832\n",
      "Feature: 7, Score: 0.08097\n",
      "Feature: 8, Score: 0.08370\n",
      "Feature: 9, Score: 0.12362\n"
     ]
    }
   ],
   "source": [
    "for i,v in enumerate(importance):\n",
    "    print('Feature: %0d, Score: %.5f' % (i,v))"
   ]
  },
  {
   "cell_type": "code",
   "execution_count": null,
   "metadata": {},
   "outputs": [],
   "source": []
  }
 ],
 "metadata": {
  "kernelspec": {
   "display_name": "Python 3",
   "language": "python",
   "name": "python3"
  },
  "language_info": {
   "codemirror_mode": {
    "name": "ipython",
    "version": 3
   },
   "file_extension": ".py",
   "mimetype": "text/x-python",
   "name": "python",
   "nbconvert_exporter": "python",
   "pygments_lexer": "ipython3",
   "version": "3.8.3"
  }
 },
 "nbformat": 4,
 "nbformat_minor": 2
}
